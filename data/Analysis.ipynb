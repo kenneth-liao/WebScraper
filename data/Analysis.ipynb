{
 "cells": [
  {
   "cell_type": "code",
   "execution_count": 246,
   "id": "f3c42ca6",
   "metadata": {},
   "outputs": [],
   "source": [
    "import pandas as pd\n",
    "import regex as re\n",
    "import plotly\n",
    "from plotly import graph_objects as go\n",
    "import plotly.io as pio\n",
    "pio.templates.default = 'plotly_white'"
   ]
  },
  {
   "cell_type": "markdown",
   "id": "f3cce3e0",
   "metadata": {},
   "source": [
    "## Background"
   ]
  },
  {
   "cell_type": "markdown",
   "id": "f89a75d8",
   "metadata": {},
   "source": [
    "The webscraper was used to retrieve hearing data for Judges Paula Skahan and Mark Ward during the week of 1/10/22 - 1/14/22. Data was exported to two CSV files: parties contains information about the defendants while charges contains charges they're facing. The data is shown below for the two individual datasets and for the merged data joined on *Case Number*."
   ]
  },
  {
   "cell_type": "code",
   "execution_count": 6,
   "id": "c8c187a1",
   "metadata": {},
   "outputs": [],
   "source": [
    "parties = pd.read_csv('party_data.csv').drop('Unnamed: 0', axis=1)\n",
    "charges = pd.read_csv('charges_data.csv').drop('Unnamed: 0', axis=1)"
   ]
  },
  {
   "cell_type": "code",
   "execution_count": 9,
   "id": "2b42f266",
   "metadata": {},
   "outputs": [
    {
     "data": {
      "text/html": [
       "<div>\n",
       "<style scoped>\n",
       "    .dataframe tbody tr th:only-of-type {\n",
       "        vertical-align: middle;\n",
       "    }\n",
       "\n",
       "    .dataframe tbody tr th {\n",
       "        vertical-align: top;\n",
       "    }\n",
       "\n",
       "    .dataframe thead th {\n",
       "        text-align: right;\n",
       "    }\n",
       "</style>\n",
       "<table border=\"1\" class=\"dataframe\">\n",
       "  <thead>\n",
       "    <tr style=\"text-align: right;\">\n",
       "      <th></th>\n",
       "      <th>Case Number</th>\n",
       "      <th>Judge</th>\n",
       "      <th>Courtroom</th>\n",
       "      <th>Hearing Date</th>\n",
       "      <th>Defendant</th>\n",
       "      <th>DOB</th>\n",
       "      <th>Race</th>\n",
       "    </tr>\n",
       "  </thead>\n",
       "  <tbody>\n",
       "    <tr>\n",
       "      <th>0</th>\n",
       "      <td>C1909455</td>\n",
       "      <td>Division I - Judge Paula Skahan</td>\n",
       "      <td>Division 1</td>\n",
       "      <td>2022-01-10</td>\n",
       "      <td>RUZICHA, TRAVIS</td>\n",
       "      <td>02/22/2000</td>\n",
       "      <td>White</td>\n",
       "    </tr>\n",
       "    <tr>\n",
       "      <th>1</th>\n",
       "      <td>C1802145</td>\n",
       "      <td>Division I - Judge Paula Skahan</td>\n",
       "      <td>Division 1</td>\n",
       "      <td>2022-01-10</td>\n",
       "      <td>FAIR, OMAR</td>\n",
       "      <td>11/12/1989</td>\n",
       "      <td>Black</td>\n",
       "    </tr>\n",
       "    <tr>\n",
       "      <th>2</th>\n",
       "      <td>C1809571</td>\n",
       "      <td>Division I - Judge Paula Skahan</td>\n",
       "      <td>Division 1</td>\n",
       "      <td>2022-01-10</td>\n",
       "      <td>FAIR, OMAR LOVE</td>\n",
       "      <td>11/12/1989</td>\n",
       "      <td>Black</td>\n",
       "    </tr>\n",
       "    <tr>\n",
       "      <th>3</th>\n",
       "      <td>C1910146</td>\n",
       "      <td>Division I - Judge Paula Skahan</td>\n",
       "      <td>Division 1</td>\n",
       "      <td>2022-01-10</td>\n",
       "      <td>FAIR, OMAR LOVE</td>\n",
       "      <td>11/12/1989</td>\n",
       "      <td>Black</td>\n",
       "    </tr>\n",
       "    <tr>\n",
       "      <th>4</th>\n",
       "      <td>C2101702</td>\n",
       "      <td>Division I - Judge Paula Skahan</td>\n",
       "      <td>Division 1</td>\n",
       "      <td>2022-01-10</td>\n",
       "      <td>WEDDINGTON, PARNELL THOMAS</td>\n",
       "      <td>03/30/1962</td>\n",
       "      <td>Black</td>\n",
       "    </tr>\n",
       "  </tbody>\n",
       "</table>\n",
       "</div>"
      ],
      "text/plain": [
       "  Case Number                            Judge   Courtroom Hearing Date  \\\n",
       "0    C1909455  Division I - Judge Paula Skahan  Division 1   2022-01-10   \n",
       "1    C1802145  Division I - Judge Paula Skahan  Division 1   2022-01-10   \n",
       "2    C1809571  Division I - Judge Paula Skahan  Division 1   2022-01-10   \n",
       "3    C1910146  Division I - Judge Paula Skahan  Division 1   2022-01-10   \n",
       "4    C2101702  Division I - Judge Paula Skahan  Division 1   2022-01-10   \n",
       "\n",
       "                    Defendant         DOB   Race  \n",
       "0             RUZICHA, TRAVIS  02/22/2000  White  \n",
       "1                  FAIR, OMAR  11/12/1989  Black  \n",
       "2             FAIR, OMAR LOVE  11/12/1989  Black  \n",
       "3             FAIR, OMAR LOVE  11/12/1989  Black  \n",
       "4  WEDDINGTON, PARNELL THOMAS  03/30/1962  Black  "
      ]
     },
     "execution_count": 9,
     "metadata": {},
     "output_type": "execute_result"
    }
   ],
   "source": [
    "parties.head()"
   ]
  },
  {
   "cell_type": "code",
   "execution_count": 25,
   "id": "2cb36fa4",
   "metadata": {},
   "outputs": [
    {
     "data": {
      "text/html": [
       "<div>\n",
       "<style scoped>\n",
       "    .dataframe tbody tr th:only-of-type {\n",
       "        vertical-align: middle;\n",
       "    }\n",
       "\n",
       "    .dataframe tbody tr th {\n",
       "        vertical-align: top;\n",
       "    }\n",
       "\n",
       "    .dataframe thead th {\n",
       "        text-align: right;\n",
       "    }\n",
       "</style>\n",
       "<table border=\"1\" class=\"dataframe\">\n",
       "  <thead>\n",
       "    <tr style=\"text-align: right;\">\n",
       "      <th></th>\n",
       "      <th>Case Number</th>\n",
       "      <th>Charge Number</th>\n",
       "      <th>Description</th>\n",
       "      <th>Statute</th>\n",
       "      <th>Level</th>\n",
       "      <th>Date</th>\n",
       "    </tr>\n",
       "  </thead>\n",
       "  <tbody>\n",
       "    <tr>\n",
       "      <th>0</th>\n",
       "      <td>C1909455</td>\n",
       "      <td>1</td>\n",
       "      <td>RAPE OF A CHILD</td>\n",
       "      <td>39-13-522</td>\n",
       "      <td>Felony A</td>\n",
       "      <td>07/20/2019</td>\n",
       "    </tr>\n",
       "    <tr>\n",
       "      <th>1</th>\n",
       "      <td>C1909455</td>\n",
       "      <td>2</td>\n",
       "      <td>AGGRAVATED SEXUAL BATTERY</td>\n",
       "      <td>39-13-504</td>\n",
       "      <td>Felony B</td>\n",
       "      <td>07/20/2019</td>\n",
       "    </tr>\n",
       "    <tr>\n",
       "      <th>2</th>\n",
       "      <td>C1802145</td>\n",
       "      <td>1</td>\n",
       "      <td>AGGRAVATED BURGLARY-ACT IN CONCERT</td>\n",
       "      <td>39-14-403</td>\n",
       "      <td>Felony B</td>\n",
       "      <td>04/30/2017</td>\n",
       "    </tr>\n",
       "    <tr>\n",
       "      <th>3</th>\n",
       "      <td>C1802145</td>\n",
       "      <td>2</td>\n",
       "      <td>AGGRAVATED ASSAULT</td>\n",
       "      <td>39-13-102</td>\n",
       "      <td>Felony C</td>\n",
       "      <td>04/30/2017</td>\n",
       "    </tr>\n",
       "    <tr>\n",
       "      <th>4</th>\n",
       "      <td>C1802145</td>\n",
       "      <td>101</td>\n",
       "      <td>PETITION TO REVOKE SUSP SENTENCE</td>\n",
       "      <td>40-35-311</td>\n",
       "      <td>Civil-Petition</td>\n",
       "      <td>07/25/2019</td>\n",
       "    </tr>\n",
       "  </tbody>\n",
       "</table>\n",
       "</div>"
      ],
      "text/plain": [
       "  Case Number  Charge Number                         Description    Statute  \\\n",
       "0    C1909455              1                     RAPE OF A CHILD  39-13-522   \n",
       "1    C1909455              2           AGGRAVATED SEXUAL BATTERY  39-13-504   \n",
       "2    C1802145              1  AGGRAVATED BURGLARY-ACT IN CONCERT  39-14-403   \n",
       "3    C1802145              2                  AGGRAVATED ASSAULT  39-13-102   \n",
       "4    C1802145            101    PETITION TO REVOKE SUSP SENTENCE  40-35-311   \n",
       "\n",
       "            Level        Date  \n",
       "0        Felony A  07/20/2019  \n",
       "1        Felony B  07/20/2019  \n",
       "2        Felony B  04/30/2017  \n",
       "3        Felony C  04/30/2017  \n",
       "4  Civil-Petition  07/25/2019  "
      ]
     },
     "execution_count": 25,
     "metadata": {},
     "output_type": "execute_result"
    }
   ],
   "source": [
    "charges.head()"
   ]
  },
  {
   "cell_type": "code",
   "execution_count": 33,
   "id": "649a0e18",
   "metadata": {},
   "outputs": [
    {
     "data": {
      "text/html": [
       "<div>\n",
       "<style scoped>\n",
       "    .dataframe tbody tr th:only-of-type {\n",
       "        vertical-align: middle;\n",
       "    }\n",
       "\n",
       "    .dataframe tbody tr th {\n",
       "        vertical-align: top;\n",
       "    }\n",
       "\n",
       "    .dataframe thead th {\n",
       "        text-align: right;\n",
       "    }\n",
       "</style>\n",
       "<table border=\"1\" class=\"dataframe\">\n",
       "  <thead>\n",
       "    <tr style=\"text-align: right;\">\n",
       "      <th></th>\n",
       "      <th>Case Number</th>\n",
       "      <th>Judge</th>\n",
       "      <th>Courtroom</th>\n",
       "      <th>Hearing Date</th>\n",
       "      <th>Defendant</th>\n",
       "      <th>DOB</th>\n",
       "      <th>Race</th>\n",
       "      <th>Charge Number</th>\n",
       "      <th>Description</th>\n",
       "      <th>Statute</th>\n",
       "      <th>Level</th>\n",
       "      <th>Date</th>\n",
       "    </tr>\n",
       "  </thead>\n",
       "  <tbody>\n",
       "    <tr>\n",
       "      <th>0</th>\n",
       "      <td>C1909455</td>\n",
       "      <td>Division I - Judge Paula Skahan</td>\n",
       "      <td>Division 1</td>\n",
       "      <td>2022-01-10</td>\n",
       "      <td>RUZICHA, TRAVIS</td>\n",
       "      <td>02/22/2000</td>\n",
       "      <td>White</td>\n",
       "      <td>1</td>\n",
       "      <td>RAPE OF A CHILD</td>\n",
       "      <td>39-13-522</td>\n",
       "      <td>Felony A</td>\n",
       "      <td>07/20/2019</td>\n",
       "    </tr>\n",
       "    <tr>\n",
       "      <th>1</th>\n",
       "      <td>C1909455</td>\n",
       "      <td>Division I - Judge Paula Skahan</td>\n",
       "      <td>Division 1</td>\n",
       "      <td>2022-01-10</td>\n",
       "      <td>RUZICHA, TRAVIS</td>\n",
       "      <td>02/22/2000</td>\n",
       "      <td>White</td>\n",
       "      <td>2</td>\n",
       "      <td>AGGRAVATED SEXUAL BATTERY</td>\n",
       "      <td>39-13-504</td>\n",
       "      <td>Felony B</td>\n",
       "      <td>07/20/2019</td>\n",
       "    </tr>\n",
       "    <tr>\n",
       "      <th>2</th>\n",
       "      <td>C1802145</td>\n",
       "      <td>Division I - Judge Paula Skahan</td>\n",
       "      <td>Division 1</td>\n",
       "      <td>2022-01-10</td>\n",
       "      <td>FAIR, OMAR</td>\n",
       "      <td>11/12/1989</td>\n",
       "      <td>Black</td>\n",
       "      <td>1</td>\n",
       "      <td>AGGRAVATED BURGLARY-ACT IN CONCERT</td>\n",
       "      <td>39-14-403</td>\n",
       "      <td>Felony B</td>\n",
       "      <td>04/30/2017</td>\n",
       "    </tr>\n",
       "    <tr>\n",
       "      <th>3</th>\n",
       "      <td>C1802145</td>\n",
       "      <td>Division I - Judge Paula Skahan</td>\n",
       "      <td>Division 1</td>\n",
       "      <td>2022-01-10</td>\n",
       "      <td>FAIR, OMAR</td>\n",
       "      <td>11/12/1989</td>\n",
       "      <td>Black</td>\n",
       "      <td>2</td>\n",
       "      <td>AGGRAVATED ASSAULT</td>\n",
       "      <td>39-13-102</td>\n",
       "      <td>Felony C</td>\n",
       "      <td>04/30/2017</td>\n",
       "    </tr>\n",
       "    <tr>\n",
       "      <th>4</th>\n",
       "      <td>C1802145</td>\n",
       "      <td>Division I - Judge Paula Skahan</td>\n",
       "      <td>Division 1</td>\n",
       "      <td>2022-01-10</td>\n",
       "      <td>FAIR, OMAR</td>\n",
       "      <td>11/12/1989</td>\n",
       "      <td>Black</td>\n",
       "      <td>101</td>\n",
       "      <td>PETITION TO REVOKE SUSP SENTENCE</td>\n",
       "      <td>40-35-311</td>\n",
       "      <td>Civil-Petition</td>\n",
       "      <td>07/25/2019</td>\n",
       "    </tr>\n",
       "  </tbody>\n",
       "</table>\n",
       "</div>"
      ],
      "text/plain": [
       "  Case Number                            Judge   Courtroom Hearing Date  \\\n",
       "0    C1909455  Division I - Judge Paula Skahan  Division 1   2022-01-10   \n",
       "1    C1909455  Division I - Judge Paula Skahan  Division 1   2022-01-10   \n",
       "2    C1802145  Division I - Judge Paula Skahan  Division 1   2022-01-10   \n",
       "3    C1802145  Division I - Judge Paula Skahan  Division 1   2022-01-10   \n",
       "4    C1802145  Division I - Judge Paula Skahan  Division 1   2022-01-10   \n",
       "\n",
       "         Defendant         DOB   Race  Charge Number  \\\n",
       "0  RUZICHA, TRAVIS  02/22/2000  White              1   \n",
       "1  RUZICHA, TRAVIS  02/22/2000  White              2   \n",
       "2       FAIR, OMAR  11/12/1989  Black              1   \n",
       "3       FAIR, OMAR  11/12/1989  Black              2   \n",
       "4       FAIR, OMAR  11/12/1989  Black            101   \n",
       "\n",
       "                          Description    Statute           Level        Date  \n",
       "0                     RAPE OF A CHILD  39-13-522        Felony A  07/20/2019  \n",
       "1           AGGRAVATED SEXUAL BATTERY  39-13-504        Felony B  07/20/2019  \n",
       "2  AGGRAVATED BURGLARY-ACT IN CONCERT  39-14-403        Felony B  04/30/2017  \n",
       "3                  AGGRAVATED ASSAULT  39-13-102        Felony C  04/30/2017  \n",
       "4    PETITION TO REVOKE SUSP SENTENCE  40-35-311  Civil-Petition  07/25/2019  "
      ]
     },
     "execution_count": 33,
     "metadata": {},
     "output_type": "execute_result"
    }
   ],
   "source": [
    "merged_data = parties.join(charges.set_index('Case Number'), on='Case Number').reset_index(drop=True)\n",
    "merged_data.head()"
   ]
  },
  {
   "cell_type": "markdown",
   "id": "e5042b0a",
   "metadata": {},
   "source": [
    "---"
   ]
  },
  {
   "cell_type": "markdown",
   "id": "b6a31aed",
   "metadata": {},
   "source": [
    "### Exploratory Analysis"
   ]
  },
  {
   "cell_type": "markdown",
   "id": "db026588",
   "metadata": {},
   "source": [
    "Defendants can have multiple case numbers. I'm assuming these are all individual crimes carried out at different times and involving different charges. An example is shown below for the Defendant **Fair, Omar Love** who was seen on 01/10/2022 by Judge Skahan for 3 separate cases. For clarity, I'm only showing the first charge for each *Case Number*. Note that the dates for each of these charges is unique. With this in mind, when comparing the racial composition of cases between Judges Skahan and Ward, we can do so in a number of ways. We can treat every case as an individual data point, even if they share the same defendant, or we can look at only unique defendants seen in by each Judge. I'll proceed with the latter method as it makes sense to me to that defendants would be assigned to a judge and courtroom and have all of their cases heard by that judge."
   ]
  },
  {
   "cell_type": "code",
   "execution_count": 39,
   "id": "977d0f66",
   "metadata": {},
   "outputs": [
    {
     "data": {
      "text/html": [
       "<div>\n",
       "<style scoped>\n",
       "    .dataframe tbody tr th:only-of-type {\n",
       "        vertical-align: middle;\n",
       "    }\n",
       "\n",
       "    .dataframe tbody tr th {\n",
       "        vertical-align: top;\n",
       "    }\n",
       "\n",
       "    .dataframe thead th {\n",
       "        text-align: right;\n",
       "    }\n",
       "</style>\n",
       "<table border=\"1\" class=\"dataframe\">\n",
       "  <thead>\n",
       "    <tr style=\"text-align: right;\">\n",
       "      <th></th>\n",
       "      <th>Case Number</th>\n",
       "      <th>Judge</th>\n",
       "      <th>Courtroom</th>\n",
       "      <th>Hearing Date</th>\n",
       "      <th>Defendant</th>\n",
       "      <th>DOB</th>\n",
       "      <th>Race</th>\n",
       "      <th>Charge Number</th>\n",
       "      <th>Description</th>\n",
       "      <th>Statute</th>\n",
       "      <th>Level</th>\n",
       "      <th>Date</th>\n",
       "    </tr>\n",
       "  </thead>\n",
       "  <tbody>\n",
       "    <tr>\n",
       "      <th>2</th>\n",
       "      <td>C1802145</td>\n",
       "      <td>Division I - Judge Paula Skahan</td>\n",
       "      <td>Division 1</td>\n",
       "      <td>2022-01-10</td>\n",
       "      <td>FAIR, OMAR</td>\n",
       "      <td>11/12/1989</td>\n",
       "      <td>Black</td>\n",
       "      <td>1</td>\n",
       "      <td>AGGRAVATED BURGLARY-ACT IN CONCERT</td>\n",
       "      <td>39-14-403</td>\n",
       "      <td>Felony B</td>\n",
       "      <td>04/30/2017</td>\n",
       "    </tr>\n",
       "    <tr>\n",
       "      <th>5</th>\n",
       "      <td>C1809571</td>\n",
       "      <td>Division I - Judge Paula Skahan</td>\n",
       "      <td>Division 1</td>\n",
       "      <td>2022-01-10</td>\n",
       "      <td>FAIR, OMAR LOVE</td>\n",
       "      <td>11/12/1989</td>\n",
       "      <td>Black</td>\n",
       "      <td>1</td>\n",
       "      <td>POSS OF CONT SUBSTANCE MARIJUANA</td>\n",
       "      <td>39-17-418</td>\n",
       "      <td>Misdemeanor A</td>\n",
       "      <td>09/17/2017</td>\n",
       "    </tr>\n",
       "    <tr>\n",
       "      <th>13</th>\n",
       "      <td>C1910146</td>\n",
       "      <td>Division I - Judge Paula Skahan</td>\n",
       "      <td>Division 1</td>\n",
       "      <td>2022-01-10</td>\n",
       "      <td>FAIR, OMAR LOVE</td>\n",
       "      <td>11/12/1989</td>\n",
       "      <td>Black</td>\n",
       "      <td>1</td>\n",
       "      <td>UNLAWFUL CARRYING OR POSSESSION OF A WEAPON</td>\n",
       "      <td>39-17-1307</td>\n",
       "      <td>Felony B</td>\n",
       "      <td>04/20/2019</td>\n",
       "    </tr>\n",
       "  </tbody>\n",
       "</table>\n",
       "</div>"
      ],
      "text/plain": [
       "   Case Number                            Judge   Courtroom Hearing Date  \\\n",
       "2     C1802145  Division I - Judge Paula Skahan  Division 1   2022-01-10   \n",
       "5     C1809571  Division I - Judge Paula Skahan  Division 1   2022-01-10   \n",
       "13    C1910146  Division I - Judge Paula Skahan  Division 1   2022-01-10   \n",
       "\n",
       "          Defendant         DOB   Race  Charge Number  \\\n",
       "2        FAIR, OMAR  11/12/1989  Black              1   \n",
       "5   FAIR, OMAR LOVE  11/12/1989  Black              1   \n",
       "13  FAIR, OMAR LOVE  11/12/1989  Black              1   \n",
       "\n",
       "                                    Description     Statute          Level  \\\n",
       "2            AGGRAVATED BURGLARY-ACT IN CONCERT   39-14-403       Felony B   \n",
       "5              POSS OF CONT SUBSTANCE MARIJUANA   39-17-418  Misdemeanor A   \n",
       "13  UNLAWFUL CARRYING OR POSSESSION OF A WEAPON  39-17-1307       Felony B   \n",
       "\n",
       "          Date  \n",
       "2   04/30/2017  \n",
       "5   09/17/2017  \n",
       "13  04/20/2019  "
      ]
     },
     "execution_count": 39,
     "metadata": {},
     "output_type": "execute_result"
    }
   ],
   "source": [
    "merged_data[(merged_data.Defendant.str.contains('OMAR')) & (merged_data['Charge Number']==1)]"
   ]
  },
  {
   "cell_type": "code",
   "execution_count": 41,
   "id": "a03c66e0",
   "metadata": {},
   "outputs": [
    {
     "data": {
      "text/html": [
       "<div>\n",
       "<style scoped>\n",
       "    .dataframe tbody tr th:only-of-type {\n",
       "        vertical-align: middle;\n",
       "    }\n",
       "\n",
       "    .dataframe tbody tr th {\n",
       "        vertical-align: top;\n",
       "    }\n",
       "\n",
       "    .dataframe thead th {\n",
       "        text-align: right;\n",
       "    }\n",
       "</style>\n",
       "<table border=\"1\" class=\"dataframe\">\n",
       "  <thead>\n",
       "    <tr style=\"text-align: right;\">\n",
       "      <th></th>\n",
       "      <th>Judge</th>\n",
       "      <th>Defendant</th>\n",
       "      <th>Race</th>\n",
       "    </tr>\n",
       "  </thead>\n",
       "  <tbody>\n",
       "    <tr>\n",
       "      <th>0</th>\n",
       "      <td>Division I - Judge Paula Skahan</td>\n",
       "      <td>RUZICHA, TRAVIS</td>\n",
       "      <td>White</td>\n",
       "    </tr>\n",
       "    <tr>\n",
       "      <th>2</th>\n",
       "      <td>Division I - Judge Paula Skahan</td>\n",
       "      <td>FAIR, OMAR</td>\n",
       "      <td>Black</td>\n",
       "    </tr>\n",
       "    <tr>\n",
       "      <th>5</th>\n",
       "      <td>Division I - Judge Paula Skahan</td>\n",
       "      <td>FAIR, OMAR LOVE</td>\n",
       "      <td>Black</td>\n",
       "    </tr>\n",
       "    <tr>\n",
       "      <th>20</th>\n",
       "      <td>Division I - Judge Paula Skahan</td>\n",
       "      <td>WEDDINGTON, PARNELL THOMAS</td>\n",
       "      <td>Black</td>\n",
       "    </tr>\n",
       "    <tr>\n",
       "      <th>24</th>\n",
       "      <td>Division I - Judge Paula Skahan</td>\n",
       "      <td>BARNES, KIA N</td>\n",
       "      <td>Black</td>\n",
       "    </tr>\n",
       "  </tbody>\n",
       "</table>\n",
       "</div>"
      ],
      "text/plain": [
       "                              Judge                   Defendant   Race\n",
       "0   Division I - Judge Paula Skahan             RUZICHA, TRAVIS  White\n",
       "2   Division I - Judge Paula Skahan                  FAIR, OMAR  Black\n",
       "5   Division I - Judge Paula Skahan             FAIR, OMAR LOVE  Black\n",
       "20  Division I - Judge Paula Skahan  WEDDINGTON, PARNELL THOMAS  Black\n",
       "24  Division I - Judge Paula Skahan               BARNES, KIA N  Black"
      ]
     },
     "execution_count": 41,
     "metadata": {},
     "output_type": "execute_result"
    }
   ],
   "source": [
    "# drop duplicate defendants\n",
    "unique_defendants = merged_data[['Judge', 'Defendant', 'Race']].drop_duplicates()\n",
    "unique_defendants.head()"
   ]
  },
  {
   "cell_type": "code",
   "execution_count": 42,
   "id": "d2ec5518",
   "metadata": {},
   "outputs": [
    {
     "data": {
      "text/html": [
       "<div>\n",
       "<style scoped>\n",
       "    .dataframe tbody tr th:only-of-type {\n",
       "        vertical-align: middle;\n",
       "    }\n",
       "\n",
       "    .dataframe tbody tr th {\n",
       "        vertical-align: top;\n",
       "    }\n",
       "\n",
       "    .dataframe thead th {\n",
       "        text-align: right;\n",
       "    }\n",
       "</style>\n",
       "<table border=\"1\" class=\"dataframe\">\n",
       "  <thead>\n",
       "    <tr style=\"text-align: right;\">\n",
       "      <th></th>\n",
       "      <th>Defendant</th>\n",
       "    </tr>\n",
       "    <tr>\n",
       "      <th>Judge</th>\n",
       "      <th></th>\n",
       "    </tr>\n",
       "  </thead>\n",
       "  <tbody>\n",
       "    <tr>\n",
       "      <th>Division I - Judge Paula Skahan</th>\n",
       "      <td>143</td>\n",
       "    </tr>\n",
       "    <tr>\n",
       "      <th>Division IX - Judge W. Mark Ward</th>\n",
       "      <td>172</td>\n",
       "    </tr>\n",
       "  </tbody>\n",
       "</table>\n",
       "</div>"
      ],
      "text/plain": [
       "                                  Defendant\n",
       "Judge                                      \n",
       "Division I - Judge Paula Skahan         143\n",
       "Division IX - Judge W. Mark Ward        172"
      ]
     },
     "execution_count": 42,
     "metadata": {},
     "output_type": "execute_result"
    }
   ],
   "source": [
    "unique_defendants[['Judge', 'Defendant']].groupby(['Judge']).count()"
   ]
  },
  {
   "cell_type": "markdown",
   "id": "39d8d4f3",
   "metadata": {},
   "source": [
    "During the week of 1/10/22 - 1/14/22, Judge Skahan proceeded over cases for 143 defendants while Judge Ward proceeded over cases for 172 unique defendants. The race of these defendants is broken down for each judge in the table below."
   ]
  },
  {
   "cell_type": "code",
   "execution_count": 78,
   "id": "b0675fd7",
   "metadata": {},
   "outputs": [
    {
     "data": {
      "text/html": [
       "<div>\n",
       "<style scoped>\n",
       "    .dataframe tbody tr th:only-of-type {\n",
       "        vertical-align: middle;\n",
       "    }\n",
       "\n",
       "    .dataframe tbody tr th {\n",
       "        vertical-align: top;\n",
       "    }\n",
       "\n",
       "    .dataframe thead th {\n",
       "        text-align: right;\n",
       "    }\n",
       "</style>\n",
       "<table border=\"1\" class=\"dataframe\">\n",
       "  <thead>\n",
       "    <tr style=\"text-align: right;\">\n",
       "      <th></th>\n",
       "      <th></th>\n",
       "      <th>Defendant</th>\n",
       "      <th>Percentage of Group (Judge)</th>\n",
       "    </tr>\n",
       "    <tr>\n",
       "      <th>Judge</th>\n",
       "      <th>Race</th>\n",
       "      <th></th>\n",
       "      <th></th>\n",
       "    </tr>\n",
       "  </thead>\n",
       "  <tbody>\n",
       "    <tr>\n",
       "      <th rowspan=\"2\" valign=\"top\">Division I - Judge Paula Skahan</th>\n",
       "      <th>Black</th>\n",
       "      <td>127</td>\n",
       "      <td>88.81</td>\n",
       "    </tr>\n",
       "    <tr>\n",
       "      <th>White</th>\n",
       "      <td>16</td>\n",
       "      <td>11.19</td>\n",
       "    </tr>\n",
       "    <tr>\n",
       "      <th rowspan=\"4\" valign=\"top\">Division IX - Judge W. Mark Ward</th>\n",
       "      <th>Asian</th>\n",
       "      <td>1</td>\n",
       "      <td>0.58</td>\n",
       "    </tr>\n",
       "    <tr>\n",
       "      <th>Black</th>\n",
       "      <td>139</td>\n",
       "      <td>80.81</td>\n",
       "    </tr>\n",
       "    <tr>\n",
       "      <th>Other</th>\n",
       "      <td>1</td>\n",
       "      <td>0.58</td>\n",
       "    </tr>\n",
       "    <tr>\n",
       "      <th>White</th>\n",
       "      <td>31</td>\n",
       "      <td>18.02</td>\n",
       "    </tr>\n",
       "  </tbody>\n",
       "</table>\n",
       "</div>"
      ],
      "text/plain": [
       "                                        Defendant  Percentage of Group (Judge)\n",
       "Judge                            Race                                         \n",
       "Division I - Judge Paula Skahan  Black        127                        88.81\n",
       "                                 White         16                        11.19\n",
       "Division IX - Judge W. Mark Ward Asian          1                         0.58\n",
       "                                 Black        139                        80.81\n",
       "                                 Other          1                         0.58\n",
       "                                 White         31                        18.02"
      ]
     },
     "execution_count": 78,
     "metadata": {},
     "output_type": "execute_result"
    }
   ],
   "source": [
    "race_composition = unique_defendants.groupby(['Judge', 'Race']).count()\n",
    "race_composition['Percentage of Group (Judge)'] = round(100*race_composition/race_composition.groupby('Judge').sum(), 2)\n",
    "race_composition"
   ]
  },
  {
   "cell_type": "markdown",
   "id": "eafce2e0",
   "metadata": {},
   "source": [
    "Judge Skahan saw a racial composition of 88.81% black and 11.19% white, while Judge Ward saw a composition of 80.81% black and 18.02% white."
   ]
  },
  {
   "cell_type": "code",
   "execution_count": 82,
   "id": "ca9208c9",
   "metadata": {},
   "outputs": [
    {
     "data": {
      "text/plain": [
       "94"
      ]
     },
     "execution_count": 82,
     "metadata": {},
     "output_type": "execute_result"
    }
   ],
   "source": [
    "merged_data.Statute.nunique()"
   ]
  },
  {
   "cell_type": "markdown",
   "id": "00ae4b8b",
   "metadata": {},
   "source": [
    "There are a total of 94 unique statutes."
   ]
  },
  {
   "cell_type": "code",
   "execution_count": 83,
   "id": "6344366c",
   "metadata": {},
   "outputs": [
    {
     "data": {
      "text/plain": [
       "165"
      ]
     },
     "execution_count": 83,
     "metadata": {},
     "output_type": "execute_result"
    }
   ],
   "source": [
    "merged_data.Description.nunique()"
   ]
  },
  {
   "cell_type": "markdown",
   "id": "1c03af88",
   "metadata": {},
   "source": [
    "There are a total of 165 unique charge descriptions."
   ]
  },
  {
   "cell_type": "code",
   "execution_count": 86,
   "id": "b6f5bf8f",
   "metadata": {},
   "outputs": [
    {
     "data": {
      "text/html": [
       "<div>\n",
       "<style scoped>\n",
       "    .dataframe tbody tr th:only-of-type {\n",
       "        vertical-align: middle;\n",
       "    }\n",
       "\n",
       "    .dataframe tbody tr th {\n",
       "        vertical-align: top;\n",
       "    }\n",
       "\n",
       "    .dataframe thead th {\n",
       "        text-align: right;\n",
       "    }\n",
       "</style>\n",
       "<table border=\"1\" class=\"dataframe\">\n",
       "  <thead>\n",
       "    <tr style=\"text-align: right;\">\n",
       "      <th></th>\n",
       "      <th>Statute</th>\n",
       "      <th>Description</th>\n",
       "    </tr>\n",
       "  </thead>\n",
       "  <tbody>\n",
       "    <tr>\n",
       "      <th>0</th>\n",
       "      <td>39-13-522</td>\n",
       "      <td>RAPE OF A CHILD</td>\n",
       "    </tr>\n",
       "    <tr>\n",
       "      <th>1</th>\n",
       "      <td>39-13-504</td>\n",
       "      <td>AGGRAVATED SEXUAL BATTERY</td>\n",
       "    </tr>\n",
       "    <tr>\n",
       "      <th>2</th>\n",
       "      <td>39-14-403</td>\n",
       "      <td>AGGRAVATED BURGLARY-ACT IN CONCERT</td>\n",
       "    </tr>\n",
       "    <tr>\n",
       "      <th>3</th>\n",
       "      <td>39-13-102</td>\n",
       "      <td>AGGRAVATED ASSAULT</td>\n",
       "    </tr>\n",
       "    <tr>\n",
       "      <th>4</th>\n",
       "      <td>40-35-311</td>\n",
       "      <td>PETITION TO REVOKE SUSP SENTENCE</td>\n",
       "    </tr>\n",
       "    <tr>\n",
       "      <th>...</th>\n",
       "      <td>...</td>\n",
       "      <td>...</td>\n",
       "    </tr>\n",
       "    <tr>\n",
       "      <th>1518</th>\n",
       "      <td>39-13-212</td>\n",
       "      <td>CRIMINALLY NEGLIGENT HOMICIDE</td>\n",
       "    </tr>\n",
       "    <tr>\n",
       "      <th>1526</th>\n",
       "      <td>39-13-304</td>\n",
       "      <td>CRIMINAL ATTEMPT-AGGRAVATED KIDNAPPING</td>\n",
       "    </tr>\n",
       "    <tr>\n",
       "      <th>1579</th>\n",
       "      <td>39-13-102</td>\n",
       "      <td>AGGRAVATED ASSAULT-RECKLESS-ACT CON</td>\n",
       "    </tr>\n",
       "    <tr>\n",
       "      <th>1594</th>\n",
       "      <td>39-14-505</td>\n",
       "      <td>AGGRAVATED CRIMINAL LITTERING</td>\n",
       "    </tr>\n",
       "    <tr>\n",
       "      <th>1595</th>\n",
       "      <td>39-14-406</td>\n",
       "      <td>AGGRAVATED CRIMINAL TRESPASS HAB/HOS/SCH</td>\n",
       "    </tr>\n",
       "  </tbody>\n",
       "</table>\n",
       "<p>166 rows × 2 columns</p>\n",
       "</div>"
      ],
      "text/plain": [
       "        Statute                               Description\n",
       "0     39-13-522                           RAPE OF A CHILD\n",
       "1     39-13-504                 AGGRAVATED SEXUAL BATTERY\n",
       "2     39-14-403        AGGRAVATED BURGLARY-ACT IN CONCERT\n",
       "3     39-13-102                        AGGRAVATED ASSAULT\n",
       "4     40-35-311          PETITION TO REVOKE SUSP SENTENCE\n",
       "...         ...                                       ...\n",
       "1518  39-13-212             CRIMINALLY NEGLIGENT HOMICIDE\n",
       "1526  39-13-304    CRIMINAL ATTEMPT-AGGRAVATED KIDNAPPING\n",
       "1579  39-13-102       AGGRAVATED ASSAULT-RECKLESS-ACT CON\n",
       "1594  39-14-505             AGGRAVATED CRIMINAL LITTERING\n",
       "1595  39-14-406  AGGRAVATED CRIMINAL TRESPASS HAB/HOS/SCH\n",
       "\n",
       "[166 rows x 2 columns]"
      ]
     },
     "execution_count": 86,
     "metadata": {},
     "output_type": "execute_result"
    }
   ],
   "source": [
    "unique_charges = merged_data[['Statute', 'Description']].drop_duplicates()\n",
    "unique_charges"
   ]
  },
  {
   "cell_type": "markdown",
   "id": "b5a18b0e",
   "metadata": {},
   "source": [
    "There are a total of 166 unique Statute and Description combinations."
   ]
  },
  {
   "cell_type": "code",
   "execution_count": 105,
   "id": "ae74ab81",
   "metadata": {},
   "outputs": [
    {
     "data": {
      "text/html": [
       "<div>\n",
       "<style scoped>\n",
       "    .dataframe tbody tr th:only-of-type {\n",
       "        vertical-align: middle;\n",
       "    }\n",
       "\n",
       "    .dataframe tbody tr th {\n",
       "        vertical-align: top;\n",
       "    }\n",
       "\n",
       "    .dataframe thead th {\n",
       "        text-align: right;\n",
       "    }\n",
       "</style>\n",
       "<table border=\"1\" class=\"dataframe\">\n",
       "  <thead>\n",
       "    <tr style=\"text-align: right;\">\n",
       "      <th></th>\n",
       "      <th>Statute</th>\n",
       "      <th>Description</th>\n",
       "    </tr>\n",
       "  </thead>\n",
       "  <tbody>\n",
       "    <tr>\n",
       "      <th>1455</th>\n",
       "      <td>11-11-1111</td>\n",
       "      <td>MOTION FOR NEW TRIAL</td>\n",
       "    </tr>\n",
       "    <tr>\n",
       "      <th>1396</th>\n",
       "      <td>11-11-1111</td>\n",
       "      <td>MOTION TO CORRECT ILLEGAL SENTENCE</td>\n",
       "    </tr>\n",
       "    <tr>\n",
       "      <th>1373</th>\n",
       "      <td>11-11-1111</td>\n",
       "      <td>MOTION TO REOPEN PCR</td>\n",
       "    </tr>\n",
       "    <tr>\n",
       "      <th>643</th>\n",
       "      <td>11-11-1111</td>\n",
       "      <td>MOTION FOR FAST/SPEEDY/TRIAL/IND</td>\n",
       "    </tr>\n",
       "    <tr>\n",
       "      <th>435</th>\n",
       "      <td>11-11-1111</td>\n",
       "      <td>APPEAL</td>\n",
       "    </tr>\n",
       "    <tr>\n",
       "      <th>...</th>\n",
       "      <td>...</td>\n",
       "      <td>...</td>\n",
       "    </tr>\n",
       "    <tr>\n",
       "      <th>1090</th>\n",
       "      <td>55-10-101</td>\n",
       "      <td>LEAVE SCENE OF ACCIDENT INV DEATH</td>\n",
       "    </tr>\n",
       "    <tr>\n",
       "      <th>19</th>\n",
       "      <td>55-10-401</td>\n",
       "      <td>DRIVING U/INFLUENCE INTOX/DRUGS EQUAL OR GREAT...</td>\n",
       "    </tr>\n",
       "    <tr>\n",
       "      <th>6</th>\n",
       "      <td>55-10-401</td>\n",
       "      <td>DRIVING U/INFLUENCE INTOX/DRUGS</td>\n",
       "    </tr>\n",
       "    <tr>\n",
       "      <th>10</th>\n",
       "      <td>55-50-504</td>\n",
       "      <td>DRIVING WHILE LICENSE S/R/C</td>\n",
       "    </tr>\n",
       "    <tr>\n",
       "      <th>248</th>\n",
       "      <td>55-50-504</td>\n",
       "      <td>DRIVING WHILE LICENSE S/R/C W/PRIOR</td>\n",
       "    </tr>\n",
       "  </tbody>\n",
       "</table>\n",
       "<p>110 rows × 2 columns</p>\n",
       "</div>"
      ],
      "text/plain": [
       "         Statute                                        Description\n",
       "1455  11-11-1111                               MOTION FOR NEW TRIAL\n",
       "1396  11-11-1111                 MOTION TO CORRECT ILLEGAL SENTENCE\n",
       "1373  11-11-1111                               MOTION TO REOPEN PCR\n",
       "643   11-11-1111                   MOTION FOR FAST/SPEEDY/TRIAL/IND\n",
       "435   11-11-1111                                             APPEAL\n",
       "...          ...                                                ...\n",
       "1090   55-10-101                  LEAVE SCENE OF ACCIDENT INV DEATH\n",
       "19     55-10-401  DRIVING U/INFLUENCE INTOX/DRUGS EQUAL OR GREAT...\n",
       "6      55-10-401                    DRIVING U/INFLUENCE INTOX/DRUGS\n",
       "10     55-50-504                        DRIVING WHILE LICENSE S/R/C\n",
       "248    55-50-504                DRIVING WHILE LICENSE S/R/C W/PRIOR\n",
       "\n",
       "[110 rows x 2 columns]"
      ]
     },
     "execution_count": 105,
     "metadata": {},
     "output_type": "execute_result"
    }
   ],
   "source": [
    "stat_descriptions = unique_charges.groupby('Statute').filter(lambda x: x['Description'].count() > 1).sort_values('Statute')\n",
    "stat_descriptions"
   ]
  },
  {
   "cell_type": "markdown",
   "id": "2817df16",
   "metadata": {},
   "source": [
    "Below are the last 10 unique statute + descriptions. Looking at the first statute (39-17-434), we can see there are some data integrity issues. These two descriptions are identical except for one dash instead of a space between 'UPCS' and 'W/I'. Most of the statutes however do have more than one unique description."
   ]
  },
  {
   "cell_type": "code",
   "execution_count": 107,
   "id": "902590f7",
   "metadata": {},
   "outputs": [
    {
     "data": {
      "text/html": [
       "<div>\n",
       "<style scoped>\n",
       "    .dataframe tbody tr th:only-of-type {\n",
       "        vertical-align: middle;\n",
       "    }\n",
       "\n",
       "    .dataframe tbody tr th {\n",
       "        vertical-align: top;\n",
       "    }\n",
       "\n",
       "    .dataframe thead th {\n",
       "        text-align: right;\n",
       "    }\n",
       "</style>\n",
       "<table border=\"1\" class=\"dataframe\">\n",
       "  <thead>\n",
       "    <tr style=\"text-align: right;\">\n",
       "      <th></th>\n",
       "      <th>Statute</th>\n",
       "      <th>Description</th>\n",
       "    </tr>\n",
       "  </thead>\n",
       "  <tbody>\n",
       "    <tr>\n",
       "      <th>246</th>\n",
       "      <td>39-17-434</td>\n",
       "      <td>UPCS W/I METH</td>\n",
       "    </tr>\n",
       "    <tr>\n",
       "      <th>938</th>\n",
       "      <td>39-17-434</td>\n",
       "      <td>UPCS-W/I METH</td>\n",
       "    </tr>\n",
       "    <tr>\n",
       "      <th>585</th>\n",
       "      <td>40-35-311</td>\n",
       "      <td>VIOLATION OF PROBATION M</td>\n",
       "    </tr>\n",
       "    <tr>\n",
       "      <th>4</th>\n",
       "      <td>40-35-311</td>\n",
       "      <td>PETITION TO REVOKE SUSP SENTENCE</td>\n",
       "    </tr>\n",
       "    <tr>\n",
       "      <th>854</th>\n",
       "      <td>55-10-101</td>\n",
       "      <td>LEAVE SCENE OF ACCIDENT INV INJURY</td>\n",
       "    </tr>\n",
       "    <tr>\n",
       "      <th>1090</th>\n",
       "      <td>55-10-101</td>\n",
       "      <td>LEAVE SCENE OF ACCIDENT INV DEATH</td>\n",
       "    </tr>\n",
       "    <tr>\n",
       "      <th>19</th>\n",
       "      <td>55-10-401</td>\n",
       "      <td>DRIVING U/INFLUENCE INTOX/DRUGS EQUAL OR GREAT...</td>\n",
       "    </tr>\n",
       "    <tr>\n",
       "      <th>6</th>\n",
       "      <td>55-10-401</td>\n",
       "      <td>DRIVING U/INFLUENCE INTOX/DRUGS</td>\n",
       "    </tr>\n",
       "    <tr>\n",
       "      <th>10</th>\n",
       "      <td>55-50-504</td>\n",
       "      <td>DRIVING WHILE LICENSE S/R/C</td>\n",
       "    </tr>\n",
       "    <tr>\n",
       "      <th>248</th>\n",
       "      <td>55-50-504</td>\n",
       "      <td>DRIVING WHILE LICENSE S/R/C W/PRIOR</td>\n",
       "    </tr>\n",
       "  </tbody>\n",
       "</table>\n",
       "</div>"
      ],
      "text/plain": [
       "        Statute                                        Description\n",
       "246   39-17-434                                      UPCS W/I METH\n",
       "938   39-17-434                                      UPCS-W/I METH\n",
       "585   40-35-311                           VIOLATION OF PROBATION M\n",
       "4     40-35-311                   PETITION TO REVOKE SUSP SENTENCE\n",
       "854   55-10-101                 LEAVE SCENE OF ACCIDENT INV INJURY\n",
       "1090  55-10-101                  LEAVE SCENE OF ACCIDENT INV DEATH\n",
       "19    55-10-401  DRIVING U/INFLUENCE INTOX/DRUGS EQUAL OR GREAT...\n",
       "6     55-10-401                    DRIVING U/INFLUENCE INTOX/DRUGS\n",
       "10    55-50-504                        DRIVING WHILE LICENSE S/R/C\n",
       "248   55-50-504                DRIVING WHILE LICENSE S/R/C W/PRIOR"
      ]
     },
     "execution_count": 107,
     "metadata": {},
     "output_type": "execute_result"
    }
   ],
   "source": [
    "stat_descriptions.iloc[-10:,:]"
   ]
  },
  {
   "cell_type": "markdown",
   "id": "0d6c7c4a",
   "metadata": {},
   "source": [
    "Below is the breakdown of the number of Charges for each type that each saw. For example, Judge Skahan oversaw 29 cases of *Aggravated Assault* and Judge Ward oversaw 7 cases of *Vehicular Homicide - Reckless*. The additional *Percentage of Group* column tells us for each charge, what percentage of all charges seen by each judge were of that charge. So the 29 *Aggravated Assault* charges seen by Judge Skahan comprised 4.68% of all charges they saw."
   ]
  },
  {
   "cell_type": "code",
   "execution_count": 207,
   "id": "04bcbd7e",
   "metadata": {},
   "outputs": [
    {
     "data": {
      "text/html": [
       "<div>\n",
       "<style scoped>\n",
       "    .dataframe tbody tr th:only-of-type {\n",
       "        vertical-align: middle;\n",
       "    }\n",
       "\n",
       "    .dataframe tbody tr th {\n",
       "        vertical-align: top;\n",
       "    }\n",
       "\n",
       "    .dataframe thead th {\n",
       "        text-align: right;\n",
       "    }\n",
       "</style>\n",
       "<table border=\"1\" class=\"dataframe\">\n",
       "  <thead>\n",
       "    <tr style=\"text-align: right;\">\n",
       "      <th></th>\n",
       "      <th></th>\n",
       "      <th>Charge Number</th>\n",
       "      <th>Percentage of Group (Judge)</th>\n",
       "    </tr>\n",
       "    <tr>\n",
       "      <th>Judge</th>\n",
       "      <th>Description</th>\n",
       "      <th></th>\n",
       "      <th></th>\n",
       "    </tr>\n",
       "  </thead>\n",
       "  <tbody>\n",
       "    <tr>\n",
       "      <th rowspan=\"5\" valign=\"top\">Division I - Judge Paula Skahan</th>\n",
       "      <th>AGG SEXUAL EXPLOITATION OF MINOR</th>\n",
       "      <td>3</td>\n",
       "      <td>0.48</td>\n",
       "    </tr>\n",
       "    <tr>\n",
       "      <th>AGGRAVATED ARSON</th>\n",
       "      <td>1</td>\n",
       "      <td>0.16</td>\n",
       "    </tr>\n",
       "    <tr>\n",
       "      <th>AGGRAVATED ASSAULT</th>\n",
       "      <td>29</td>\n",
       "      <td>4.68</td>\n",
       "    </tr>\n",
       "    <tr>\n",
       "      <th>AGGRAVATED ASSAULT - RECKLESS</th>\n",
       "      <td>2</td>\n",
       "      <td>0.32</td>\n",
       "    </tr>\n",
       "    <tr>\n",
       "      <th>AGGRAVATED ASSAULT-ACT IN CONCERT</th>\n",
       "      <td>10</td>\n",
       "      <td>1.61</td>\n",
       "    </tr>\n",
       "    <tr>\n",
       "      <th>...</th>\n",
       "      <th>...</th>\n",
       "      <td>...</td>\n",
       "      <td>...</td>\n",
       "    </tr>\n",
       "    <tr>\n",
       "      <th rowspan=\"5\" valign=\"top\">Division IX - Judge W. Mark Ward</th>\n",
       "      <th>VANDALISM $10000-60000</th>\n",
       "      <td>2</td>\n",
       "      <td>0.20</td>\n",
       "    </tr>\n",
       "    <tr>\n",
       "      <th>VANDALISM $2500-$10000</th>\n",
       "      <td>6</td>\n",
       "      <td>0.61</td>\n",
       "    </tr>\n",
       "    <tr>\n",
       "      <th>VEHICULAR ASSAULT</th>\n",
       "      <td>2</td>\n",
       "      <td>0.20</td>\n",
       "    </tr>\n",
       "    <tr>\n",
       "      <th>VEHICULAR HOMICIDE - INTOXICATION</th>\n",
       "      <td>6</td>\n",
       "      <td>0.61</td>\n",
       "    </tr>\n",
       "    <tr>\n",
       "      <th>VEHICULAR HOMICIDE - RECKLESS</th>\n",
       "      <td>7</td>\n",
       "      <td>0.72</td>\n",
       "    </tr>\n",
       "  </tbody>\n",
       "</table>\n",
       "<p>230 rows × 2 columns</p>\n",
       "</div>"
      ],
      "text/plain": [
       "                                                                    Charge Number  \\\n",
       "Judge                            Description                                        \n",
       "Division I - Judge Paula Skahan  AGG SEXUAL EXPLOITATION OF MINOR               3   \n",
       "                                 AGGRAVATED ARSON                               1   \n",
       "                                 AGGRAVATED ASSAULT                            29   \n",
       "                                 AGGRAVATED ASSAULT - RECKLESS                  2   \n",
       "                                 AGGRAVATED ASSAULT-ACT IN CONCERT             10   \n",
       "...                                                                           ...   \n",
       "Division IX - Judge W. Mark Ward VANDALISM $10000-60000                         2   \n",
       "                                 VANDALISM $2500-$10000                         6   \n",
       "                                 VEHICULAR ASSAULT                              2   \n",
       "                                 VEHICULAR HOMICIDE - INTOXICATION              6   \n",
       "                                 VEHICULAR HOMICIDE - RECKLESS                  7   \n",
       "\n",
       "                                                                    Percentage of Group (Judge)  \n",
       "Judge                            Description                                                     \n",
       "Division I - Judge Paula Skahan  AGG SEXUAL EXPLOITATION OF MINOR                          0.48  \n",
       "                                 AGGRAVATED ARSON                                          0.16  \n",
       "                                 AGGRAVATED ASSAULT                                        4.68  \n",
       "                                 AGGRAVATED ASSAULT - RECKLESS                             0.32  \n",
       "                                 AGGRAVATED ASSAULT-ACT IN CONCERT                         1.61  \n",
       "...                                                                                         ...  \n",
       "Division IX - Judge W. Mark Ward VANDALISM $10000-60000                                    0.20  \n",
       "                                 VANDALISM $2500-$10000                                    0.61  \n",
       "                                 VEHICULAR ASSAULT                                         0.20  \n",
       "                                 VEHICULAR HOMICIDE - INTOXICATION                         0.61  \n",
       "                                 VEHICULAR HOMICIDE - RECKLESS                             0.72  \n",
       "\n",
       "[230 rows x 2 columns]"
      ]
     },
     "execution_count": 207,
     "metadata": {},
     "output_type": "execute_result"
    }
   ],
   "source": [
    "charge_counts = merged_data[['Judge', 'Description', 'Charge Number']].groupby(['Judge', 'Description']).count()\n",
    "charge_counts['Percentage of Group (Judge)'] = round(100*charge_counts/charge_counts.groupby('Judge').sum(), 2)\n",
    "charge_counts"
   ]
  },
  {
   "cell_type": "markdown",
   "id": "186813ac",
   "metadata": {},
   "source": [
    "This data is filtered down to the top 10 charges most seen by each Judge and summarized below."
   ]
  },
  {
   "cell_type": "code",
   "execution_count": 275,
   "id": "38bdaf6a",
   "metadata": {},
   "outputs": [
    {
     "data": {
      "text/html": [
       "<div>\n",
       "<style scoped>\n",
       "    .dataframe tbody tr th:only-of-type {\n",
       "        vertical-align: middle;\n",
       "    }\n",
       "\n",
       "    .dataframe tbody tr th {\n",
       "        vertical-align: top;\n",
       "    }\n",
       "\n",
       "    .dataframe thead th {\n",
       "        text-align: right;\n",
       "    }\n",
       "</style>\n",
       "<table border=\"1\" class=\"dataframe\">\n",
       "  <thead>\n",
       "    <tr style=\"text-align: right;\">\n",
       "      <th></th>\n",
       "      <th></th>\n",
       "      <th>Charge Number</th>\n",
       "      <th>Percentage of Group (Judge)</th>\n",
       "    </tr>\n",
       "    <tr>\n",
       "      <th>Judge</th>\n",
       "      <th>Description</th>\n",
       "      <th></th>\n",
       "      <th></th>\n",
       "    </tr>\n",
       "  </thead>\n",
       "  <tbody>\n",
       "    <tr>\n",
       "      <th rowspan=\"10\" valign=\"top\">Division IX - Judge W. Mark Ward</th>\n",
       "      <th>AGGRAVATED ASSAULT</th>\n",
       "      <td>73</td>\n",
       "      <td>7.47</td>\n",
       "    </tr>\n",
       "    <tr>\n",
       "      <th>AGGRAVATED ROBBERY</th>\n",
       "      <td>55</td>\n",
       "      <td>5.63</td>\n",
       "    </tr>\n",
       "    <tr>\n",
       "      <th>EMPLOY FIREARM W/I TO COMMIT FELONY</th>\n",
       "      <td>54</td>\n",
       "      <td>5.53</td>\n",
       "    </tr>\n",
       "    <tr>\n",
       "      <th>ILLEGAL REGISTRATION OR VOTING</th>\n",
       "      <td>48</td>\n",
       "      <td>4.91</td>\n",
       "    </tr>\n",
       "    <tr>\n",
       "      <th>FIRST DEGREE MURDER</th>\n",
       "      <td>41</td>\n",
       "      <td>4.20</td>\n",
       "    </tr>\n",
       "    <tr>\n",
       "      <th>PETITION TO REVOKE SUSP SENTENCE</th>\n",
       "      <td>28</td>\n",
       "      <td>2.87</td>\n",
       "    </tr>\n",
       "    <tr>\n",
       "      <th>CARJACKING</th>\n",
       "      <td>25</td>\n",
       "      <td>2.56</td>\n",
       "    </tr>\n",
       "    <tr>\n",
       "      <th>THEFT OF PROPERTY $10000-$60000</th>\n",
       "      <td>25</td>\n",
       "      <td>2.56</td>\n",
       "    </tr>\n",
       "    <tr>\n",
       "      <th>TERMINATION OF DIVERSION</th>\n",
       "      <td>24</td>\n",
       "      <td>2.46</td>\n",
       "    </tr>\n",
       "    <tr>\n",
       "      <th>POSS CONT SUB W/I MAN/DEL/SELL</th>\n",
       "      <td>18</td>\n",
       "      <td>1.84</td>\n",
       "    </tr>\n",
       "    <tr>\n",
       "      <th rowspan=\"10\" valign=\"top\">Division I - Judge Paula Skahan</th>\n",
       "      <th>BURGLARY - MOTOR VEHICLE</th>\n",
       "      <td>59</td>\n",
       "      <td>9.52</td>\n",
       "    </tr>\n",
       "    <tr>\n",
       "      <th>DRIVING U/INFLUENCE INTOX/DRUGS</th>\n",
       "      <td>36</td>\n",
       "      <td>5.81</td>\n",
       "    </tr>\n",
       "    <tr>\n",
       "      <th>FIRST DEGREE MURDER</th>\n",
       "      <td>36</td>\n",
       "      <td>5.81</td>\n",
       "    </tr>\n",
       "    <tr>\n",
       "      <th>THEFT OF MERCH LESS THAN $1000</th>\n",
       "      <td>32</td>\n",
       "      <td>5.16</td>\n",
       "    </tr>\n",
       "    <tr>\n",
       "      <th>IDENTITY THEFT</th>\n",
       "      <td>30</td>\n",
       "      <td>4.84</td>\n",
       "    </tr>\n",
       "    <tr>\n",
       "      <th>AGGRAVATED ASSAULT</th>\n",
       "      <td>29</td>\n",
       "      <td>4.68</td>\n",
       "    </tr>\n",
       "    <tr>\n",
       "      <th>AGGRAVATED CHILD ABUSE</th>\n",
       "      <td>29</td>\n",
       "      <td>4.68</td>\n",
       "    </tr>\n",
       "    <tr>\n",
       "      <th>THEFT OF PROPERTY $1000 OR LESS</th>\n",
       "      <td>22</td>\n",
       "      <td>3.55</td>\n",
       "    </tr>\n",
       "    <tr>\n",
       "      <th>EMPLOY FIREARM W/I TO COMMIT FELONY</th>\n",
       "      <td>18</td>\n",
       "      <td>2.90</td>\n",
       "    </tr>\n",
       "    <tr>\n",
       "      <th>PETITION TO REVOKE SUSP SENTENCE</th>\n",
       "      <td>17</td>\n",
       "      <td>2.74</td>\n",
       "    </tr>\n",
       "  </tbody>\n",
       "</table>\n",
       "</div>"
      ],
      "text/plain": [
       "                                                                      Charge Number  \\\n",
       "Judge                            Description                                          \n",
       "Division IX - Judge W. Mark Ward AGGRAVATED ASSAULT                              73   \n",
       "                                 AGGRAVATED ROBBERY                              55   \n",
       "                                 EMPLOY FIREARM W/I TO COMMIT FELONY             54   \n",
       "                                 ILLEGAL REGISTRATION OR VOTING                  48   \n",
       "                                 FIRST DEGREE MURDER                             41   \n",
       "                                 PETITION TO REVOKE SUSP SENTENCE                28   \n",
       "                                 CARJACKING                                      25   \n",
       "                                 THEFT OF PROPERTY $10000-$60000                 25   \n",
       "                                 TERMINATION OF DIVERSION                        24   \n",
       "                                 POSS CONT SUB W/I MAN/DEL/SELL                  18   \n",
       "Division I - Judge Paula Skahan  BURGLARY - MOTOR VEHICLE                        59   \n",
       "                                 DRIVING U/INFLUENCE INTOX/DRUGS                 36   \n",
       "                                 FIRST DEGREE MURDER                             36   \n",
       "                                 THEFT OF MERCH LESS THAN $1000                  32   \n",
       "                                 IDENTITY THEFT                                  30   \n",
       "                                 AGGRAVATED ASSAULT                              29   \n",
       "                                 AGGRAVATED CHILD ABUSE                          29   \n",
       "                                 THEFT OF PROPERTY $1000 OR LESS                 22   \n",
       "                                 EMPLOY FIREARM W/I TO COMMIT FELONY             18   \n",
       "                                 PETITION TO REVOKE SUSP SENTENCE                17   \n",
       "\n",
       "                                                                      Percentage of Group (Judge)  \n",
       "Judge                            Description                                                       \n",
       "Division IX - Judge W. Mark Ward AGGRAVATED ASSAULT                                          7.47  \n",
       "                                 AGGRAVATED ROBBERY                                          5.63  \n",
       "                                 EMPLOY FIREARM W/I TO COMMIT FELONY                         5.53  \n",
       "                                 ILLEGAL REGISTRATION OR VOTING                              4.91  \n",
       "                                 FIRST DEGREE MURDER                                         4.20  \n",
       "                                 PETITION TO REVOKE SUSP SENTENCE                            2.87  \n",
       "                                 CARJACKING                                                  2.56  \n",
       "                                 THEFT OF PROPERTY $10000-$60000                             2.56  \n",
       "                                 TERMINATION OF DIVERSION                                    2.46  \n",
       "                                 POSS CONT SUB W/I MAN/DEL/SELL                              1.84  \n",
       "Division I - Judge Paula Skahan  BURGLARY - MOTOR VEHICLE                                    9.52  \n",
       "                                 DRIVING U/INFLUENCE INTOX/DRUGS                             5.81  \n",
       "                                 FIRST DEGREE MURDER                                         5.81  \n",
       "                                 THEFT OF MERCH LESS THAN $1000                              5.16  \n",
       "                                 IDENTITY THEFT                                              4.84  \n",
       "                                 AGGRAVATED ASSAULT                                          4.68  \n",
       "                                 AGGRAVATED CHILD ABUSE                                      4.68  \n",
       "                                 THEFT OF PROPERTY $1000 OR LESS                             3.55  \n",
       "                                 EMPLOY FIREARM W/I TO COMMIT FELONY                         2.90  \n",
       "                                 PETITION TO REVOKE SUSP SENTENCE                            2.74  "
      ]
     },
     "execution_count": 275,
     "metadata": {},
     "output_type": "execute_result"
    }
   ],
   "source": [
    "top_charges = charge_counts.sort_values(['Judge', 'Charge Number'], ascending=False).groupby(['Judge']).head(10)\n",
    "top_charges"
   ]
  },
  {
   "cell_type": "code",
   "execution_count": 276,
   "id": "f26a841d",
   "metadata": {},
   "outputs": [
    {
     "data": {
      "application/vnd.plotly.v1+json": {
       "config": {
        "plotlyServerURL": "https://plot.ly"
       },
       "data": [
        {
         "name": "Division IX - Judge W. Mark Ward",
         "type": "bar",
         "x": [
          "AGGRAVATED ASSAULT",
          "AGGRAVATED ROBBERY",
          "EMPLOY FIREARM W/I TO COMMIT FELONY",
          "ILLEGAL REGISTRATION OR VOTING",
          "FIRST DEGREE MURDER",
          "PETITION TO REVOKE SUSP SENTENCE",
          "CARJACKING",
          "THEFT OF PROPERTY $10000-$60000",
          "TERMINATION OF DIVERSION",
          "POSS CONT SUB W/I MAN/DEL/SELL"
         ],
         "y": [
          73,
          55,
          54,
          48,
          41,
          28,
          25,
          25,
          24,
          18
         ]
        },
        {
         "name": "Division I - Judge Paula Skahan",
         "type": "bar",
         "x": [
          "BURGLARY - MOTOR VEHICLE",
          "DRIVING U/INFLUENCE INTOX/DRUGS",
          "FIRST DEGREE MURDER",
          "THEFT OF MERCH LESS THAN $1000",
          "IDENTITY THEFT",
          "AGGRAVATED ASSAULT",
          "AGGRAVATED CHILD ABUSE",
          "THEFT OF PROPERTY $1000 OR LESS",
          "EMPLOY FIREARM W/I TO COMMIT FELONY",
          "PETITION TO REVOKE SUSP SENTENCE"
         ],
         "y": [
          59,
          36,
          36,
          32,
          30,
          29,
          29,
          22,
          18,
          17
         ]
        }
       ],
       "layout": {
        "barmode": "group",
        "template": {
         "data": {
          "bar": [
           {
            "error_x": {
             "color": "#2a3f5f"
            },
            "error_y": {
             "color": "#2a3f5f"
            },
            "marker": {
             "line": {
              "color": "white",
              "width": 0.5
             },
             "pattern": {
              "fillmode": "overlay",
              "size": 10,
              "solidity": 0.2
             }
            },
            "type": "bar"
           }
          ],
          "barpolar": [
           {
            "marker": {
             "line": {
              "color": "white",
              "width": 0.5
             },
             "pattern": {
              "fillmode": "overlay",
              "size": 10,
              "solidity": 0.2
             }
            },
            "type": "barpolar"
           }
          ],
          "carpet": [
           {
            "aaxis": {
             "endlinecolor": "#2a3f5f",
             "gridcolor": "#C8D4E3",
             "linecolor": "#C8D4E3",
             "minorgridcolor": "#C8D4E3",
             "startlinecolor": "#2a3f5f"
            },
            "baxis": {
             "endlinecolor": "#2a3f5f",
             "gridcolor": "#C8D4E3",
             "linecolor": "#C8D4E3",
             "minorgridcolor": "#C8D4E3",
             "startlinecolor": "#2a3f5f"
            },
            "type": "carpet"
           }
          ],
          "choropleth": [
           {
            "colorbar": {
             "outlinewidth": 0,
             "ticks": ""
            },
            "type": "choropleth"
           }
          ],
          "contour": [
           {
            "colorbar": {
             "outlinewidth": 0,
             "ticks": ""
            },
            "colorscale": [
             [
              0,
              "#0d0887"
             ],
             [
              0.1111111111111111,
              "#46039f"
             ],
             [
              0.2222222222222222,
              "#7201a8"
             ],
             [
              0.3333333333333333,
              "#9c179e"
             ],
             [
              0.4444444444444444,
              "#bd3786"
             ],
             [
              0.5555555555555556,
              "#d8576b"
             ],
             [
              0.6666666666666666,
              "#ed7953"
             ],
             [
              0.7777777777777778,
              "#fb9f3a"
             ],
             [
              0.8888888888888888,
              "#fdca26"
             ],
             [
              1,
              "#f0f921"
             ]
            ],
            "type": "contour"
           }
          ],
          "contourcarpet": [
           {
            "colorbar": {
             "outlinewidth": 0,
             "ticks": ""
            },
            "type": "contourcarpet"
           }
          ],
          "heatmap": [
           {
            "colorbar": {
             "outlinewidth": 0,
             "ticks": ""
            },
            "colorscale": [
             [
              0,
              "#0d0887"
             ],
             [
              0.1111111111111111,
              "#46039f"
             ],
             [
              0.2222222222222222,
              "#7201a8"
             ],
             [
              0.3333333333333333,
              "#9c179e"
             ],
             [
              0.4444444444444444,
              "#bd3786"
             ],
             [
              0.5555555555555556,
              "#d8576b"
             ],
             [
              0.6666666666666666,
              "#ed7953"
             ],
             [
              0.7777777777777778,
              "#fb9f3a"
             ],
             [
              0.8888888888888888,
              "#fdca26"
             ],
             [
              1,
              "#f0f921"
             ]
            ],
            "type": "heatmap"
           }
          ],
          "heatmapgl": [
           {
            "colorbar": {
             "outlinewidth": 0,
             "ticks": ""
            },
            "colorscale": [
             [
              0,
              "#0d0887"
             ],
             [
              0.1111111111111111,
              "#46039f"
             ],
             [
              0.2222222222222222,
              "#7201a8"
             ],
             [
              0.3333333333333333,
              "#9c179e"
             ],
             [
              0.4444444444444444,
              "#bd3786"
             ],
             [
              0.5555555555555556,
              "#d8576b"
             ],
             [
              0.6666666666666666,
              "#ed7953"
             ],
             [
              0.7777777777777778,
              "#fb9f3a"
             ],
             [
              0.8888888888888888,
              "#fdca26"
             ],
             [
              1,
              "#f0f921"
             ]
            ],
            "type": "heatmapgl"
           }
          ],
          "histogram": [
           {
            "marker": {
             "pattern": {
              "fillmode": "overlay",
              "size": 10,
              "solidity": 0.2
             }
            },
            "type": "histogram"
           }
          ],
          "histogram2d": [
           {
            "colorbar": {
             "outlinewidth": 0,
             "ticks": ""
            },
            "colorscale": [
             [
              0,
              "#0d0887"
             ],
             [
              0.1111111111111111,
              "#46039f"
             ],
             [
              0.2222222222222222,
              "#7201a8"
             ],
             [
              0.3333333333333333,
              "#9c179e"
             ],
             [
              0.4444444444444444,
              "#bd3786"
             ],
             [
              0.5555555555555556,
              "#d8576b"
             ],
             [
              0.6666666666666666,
              "#ed7953"
             ],
             [
              0.7777777777777778,
              "#fb9f3a"
             ],
             [
              0.8888888888888888,
              "#fdca26"
             ],
             [
              1,
              "#f0f921"
             ]
            ],
            "type": "histogram2d"
           }
          ],
          "histogram2dcontour": [
           {
            "colorbar": {
             "outlinewidth": 0,
             "ticks": ""
            },
            "colorscale": [
             [
              0,
              "#0d0887"
             ],
             [
              0.1111111111111111,
              "#46039f"
             ],
             [
              0.2222222222222222,
              "#7201a8"
             ],
             [
              0.3333333333333333,
              "#9c179e"
             ],
             [
              0.4444444444444444,
              "#bd3786"
             ],
             [
              0.5555555555555556,
              "#d8576b"
             ],
             [
              0.6666666666666666,
              "#ed7953"
             ],
             [
              0.7777777777777778,
              "#fb9f3a"
             ],
             [
              0.8888888888888888,
              "#fdca26"
             ],
             [
              1,
              "#f0f921"
             ]
            ],
            "type": "histogram2dcontour"
           }
          ],
          "mesh3d": [
           {
            "colorbar": {
             "outlinewidth": 0,
             "ticks": ""
            },
            "type": "mesh3d"
           }
          ],
          "parcoords": [
           {
            "line": {
             "colorbar": {
              "outlinewidth": 0,
              "ticks": ""
             }
            },
            "type": "parcoords"
           }
          ],
          "pie": [
           {
            "automargin": true,
            "type": "pie"
           }
          ],
          "scatter": [
           {
            "marker": {
             "colorbar": {
              "outlinewidth": 0,
              "ticks": ""
             }
            },
            "type": "scatter"
           }
          ],
          "scatter3d": [
           {
            "line": {
             "colorbar": {
              "outlinewidth": 0,
              "ticks": ""
             }
            },
            "marker": {
             "colorbar": {
              "outlinewidth": 0,
              "ticks": ""
             }
            },
            "type": "scatter3d"
           }
          ],
          "scattercarpet": [
           {
            "marker": {
             "colorbar": {
              "outlinewidth": 0,
              "ticks": ""
             }
            },
            "type": "scattercarpet"
           }
          ],
          "scattergeo": [
           {
            "marker": {
             "colorbar": {
              "outlinewidth": 0,
              "ticks": ""
             }
            },
            "type": "scattergeo"
           }
          ],
          "scattergl": [
           {
            "marker": {
             "colorbar": {
              "outlinewidth": 0,
              "ticks": ""
             }
            },
            "type": "scattergl"
           }
          ],
          "scattermapbox": [
           {
            "marker": {
             "colorbar": {
              "outlinewidth": 0,
              "ticks": ""
             }
            },
            "type": "scattermapbox"
           }
          ],
          "scatterpolar": [
           {
            "marker": {
             "colorbar": {
              "outlinewidth": 0,
              "ticks": ""
             }
            },
            "type": "scatterpolar"
           }
          ],
          "scatterpolargl": [
           {
            "marker": {
             "colorbar": {
              "outlinewidth": 0,
              "ticks": ""
             }
            },
            "type": "scatterpolargl"
           }
          ],
          "scatterternary": [
           {
            "marker": {
             "colorbar": {
              "outlinewidth": 0,
              "ticks": ""
             }
            },
            "type": "scatterternary"
           }
          ],
          "surface": [
           {
            "colorbar": {
             "outlinewidth": 0,
             "ticks": ""
            },
            "colorscale": [
             [
              0,
              "#0d0887"
             ],
             [
              0.1111111111111111,
              "#46039f"
             ],
             [
              0.2222222222222222,
              "#7201a8"
             ],
             [
              0.3333333333333333,
              "#9c179e"
             ],
             [
              0.4444444444444444,
              "#bd3786"
             ],
             [
              0.5555555555555556,
              "#d8576b"
             ],
             [
              0.6666666666666666,
              "#ed7953"
             ],
             [
              0.7777777777777778,
              "#fb9f3a"
             ],
             [
              0.8888888888888888,
              "#fdca26"
             ],
             [
              1,
              "#f0f921"
             ]
            ],
            "type": "surface"
           }
          ],
          "table": [
           {
            "cells": {
             "fill": {
              "color": "#EBF0F8"
             },
             "line": {
              "color": "white"
             }
            },
            "header": {
             "fill": {
              "color": "#C8D4E3"
             },
             "line": {
              "color": "white"
             }
            },
            "type": "table"
           }
          ]
         },
         "layout": {
          "annotationdefaults": {
           "arrowcolor": "#2a3f5f",
           "arrowhead": 0,
           "arrowwidth": 1
          },
          "autotypenumbers": "strict",
          "coloraxis": {
           "colorbar": {
            "outlinewidth": 0,
            "ticks": ""
           }
          },
          "colorscale": {
           "diverging": [
            [
             0,
             "#8e0152"
            ],
            [
             0.1,
             "#c51b7d"
            ],
            [
             0.2,
             "#de77ae"
            ],
            [
             0.3,
             "#f1b6da"
            ],
            [
             0.4,
             "#fde0ef"
            ],
            [
             0.5,
             "#f7f7f7"
            ],
            [
             0.6,
             "#e6f5d0"
            ],
            [
             0.7,
             "#b8e186"
            ],
            [
             0.8,
             "#7fbc41"
            ],
            [
             0.9,
             "#4d9221"
            ],
            [
             1,
             "#276419"
            ]
           ],
           "sequential": [
            [
             0,
             "#0d0887"
            ],
            [
             0.1111111111111111,
             "#46039f"
            ],
            [
             0.2222222222222222,
             "#7201a8"
            ],
            [
             0.3333333333333333,
             "#9c179e"
            ],
            [
             0.4444444444444444,
             "#bd3786"
            ],
            [
             0.5555555555555556,
             "#d8576b"
            ],
            [
             0.6666666666666666,
             "#ed7953"
            ],
            [
             0.7777777777777778,
             "#fb9f3a"
            ],
            [
             0.8888888888888888,
             "#fdca26"
            ],
            [
             1,
             "#f0f921"
            ]
           ],
           "sequentialminus": [
            [
             0,
             "#0d0887"
            ],
            [
             0.1111111111111111,
             "#46039f"
            ],
            [
             0.2222222222222222,
             "#7201a8"
            ],
            [
             0.3333333333333333,
             "#9c179e"
            ],
            [
             0.4444444444444444,
             "#bd3786"
            ],
            [
             0.5555555555555556,
             "#d8576b"
            ],
            [
             0.6666666666666666,
             "#ed7953"
            ],
            [
             0.7777777777777778,
             "#fb9f3a"
            ],
            [
             0.8888888888888888,
             "#fdca26"
            ],
            [
             1,
             "#f0f921"
            ]
           ]
          },
          "colorway": [
           "#636efa",
           "#EF553B",
           "#00cc96",
           "#ab63fa",
           "#FFA15A",
           "#19d3f3",
           "#FF6692",
           "#B6E880",
           "#FF97FF",
           "#FECB52"
          ],
          "font": {
           "color": "#2a3f5f"
          },
          "geo": {
           "bgcolor": "white",
           "lakecolor": "white",
           "landcolor": "white",
           "showlakes": true,
           "showland": true,
           "subunitcolor": "#C8D4E3"
          },
          "hoverlabel": {
           "align": "left"
          },
          "hovermode": "closest",
          "mapbox": {
           "style": "light"
          },
          "paper_bgcolor": "white",
          "plot_bgcolor": "white",
          "polar": {
           "angularaxis": {
            "gridcolor": "#EBF0F8",
            "linecolor": "#EBF0F8",
            "ticks": ""
           },
           "bgcolor": "white",
           "radialaxis": {
            "gridcolor": "#EBF0F8",
            "linecolor": "#EBF0F8",
            "ticks": ""
           }
          },
          "scene": {
           "xaxis": {
            "backgroundcolor": "white",
            "gridcolor": "#DFE8F3",
            "gridwidth": 2,
            "linecolor": "#EBF0F8",
            "showbackground": true,
            "ticks": "",
            "zerolinecolor": "#EBF0F8"
           },
           "yaxis": {
            "backgroundcolor": "white",
            "gridcolor": "#DFE8F3",
            "gridwidth": 2,
            "linecolor": "#EBF0F8",
            "showbackground": true,
            "ticks": "",
            "zerolinecolor": "#EBF0F8"
           },
           "zaxis": {
            "backgroundcolor": "white",
            "gridcolor": "#DFE8F3",
            "gridwidth": 2,
            "linecolor": "#EBF0F8",
            "showbackground": true,
            "ticks": "",
            "zerolinecolor": "#EBF0F8"
           }
          },
          "shapedefaults": {
           "line": {
            "color": "#2a3f5f"
           }
          },
          "ternary": {
           "aaxis": {
            "gridcolor": "#DFE8F3",
            "linecolor": "#A2B1C6",
            "ticks": ""
           },
           "baxis": {
            "gridcolor": "#DFE8F3",
            "linecolor": "#A2B1C6",
            "ticks": ""
           },
           "bgcolor": "white",
           "caxis": {
            "gridcolor": "#DFE8F3",
            "linecolor": "#A2B1C6",
            "ticks": ""
           }
          },
          "title": {
           "x": 0.05
          },
          "xaxis": {
           "automargin": true,
           "gridcolor": "#EBF0F8",
           "linecolor": "#EBF0F8",
           "ticks": "",
           "title": {
            "standoff": 15
           },
           "zerolinecolor": "#EBF0F8",
           "zerolinewidth": 2
          },
          "yaxis": {
           "automargin": true,
           "gridcolor": "#EBF0F8",
           "linecolor": "#EBF0F8",
           "ticks": "",
           "title": {
            "standoff": 15
           },
           "zerolinecolor": "#EBF0F8",
           "zerolinewidth": 2
          }
         }
        },
        "title": {
         "text": "Top 10 Charges by Judge"
        },
        "uniformtext": {
         "minsize": 8,
         "mode": "show"
        },
        "xaxis": {
         "tickangle": -35
        },
        "yaxis": {
         "title": {
          "text": "Count"
         }
        }
       }
      },
      "text/html": [
       "<div>                            <div id=\"258698c6-780d-47de-af92-29bdc6fa7630\" class=\"plotly-graph-div\" style=\"height:525px; width:100%;\"></div>            <script type=\"text/javascript\">                require([\"plotly\"], function(Plotly) {                    window.PLOTLYENV=window.PLOTLYENV || {};                                    if (document.getElementById(\"258698c6-780d-47de-af92-29bdc6fa7630\")) {                    Plotly.newPlot(                        \"258698c6-780d-47de-af92-29bdc6fa7630\",                        [{\"name\":\"Division IX - Judge W. Mark Ward\",\"type\":\"bar\",\"x\":[\"AGGRAVATED ASSAULT\",\"AGGRAVATED ROBBERY\",\"EMPLOY FIREARM W/I TO COMMIT FELONY\",\"ILLEGAL REGISTRATION OR VOTING\",\"FIRST DEGREE MURDER\",\"PETITION TO REVOKE SUSP SENTENCE\",\"CARJACKING\",\"THEFT OF PROPERTY $10000-$60000\",\"TERMINATION OF DIVERSION\",\"POSS CONT SUB W/I MAN/DEL/SELL\"],\"y\":[73,55,54,48,41,28,25,25,24,18]},{\"name\":\"Division I - Judge Paula Skahan\",\"type\":\"bar\",\"x\":[\"BURGLARY - MOTOR VEHICLE\",\"DRIVING U/INFLUENCE INTOX/DRUGS\",\"FIRST DEGREE MURDER\",\"THEFT OF MERCH LESS THAN $1000\",\"IDENTITY THEFT\",\"AGGRAVATED ASSAULT\",\"AGGRAVATED CHILD ABUSE\",\"THEFT OF PROPERTY $1000 OR LESS\",\"EMPLOY FIREARM W/I TO COMMIT FELONY\",\"PETITION TO REVOKE SUSP SENTENCE\"],\"y\":[59,36,36,32,30,29,29,22,18,17]}],                        {\"barmode\":\"group\",\"template\":{\"data\":{\"bar\":[{\"error_x\":{\"color\":\"#2a3f5f\"},\"error_y\":{\"color\":\"#2a3f5f\"},\"marker\":{\"line\":{\"color\":\"white\",\"width\":0.5},\"pattern\":{\"fillmode\":\"overlay\",\"size\":10,\"solidity\":0.2}},\"type\":\"bar\"}],\"barpolar\":[{\"marker\":{\"line\":{\"color\":\"white\",\"width\":0.5},\"pattern\":{\"fillmode\":\"overlay\",\"size\":10,\"solidity\":0.2}},\"type\":\"barpolar\"}],\"carpet\":[{\"aaxis\":{\"endlinecolor\":\"#2a3f5f\",\"gridcolor\":\"#C8D4E3\",\"linecolor\":\"#C8D4E3\",\"minorgridcolor\":\"#C8D4E3\",\"startlinecolor\":\"#2a3f5f\"},\"baxis\":{\"endlinecolor\":\"#2a3f5f\",\"gridcolor\":\"#C8D4E3\",\"linecolor\":\"#C8D4E3\",\"minorgridcolor\":\"#C8D4E3\",\"startlinecolor\":\"#2a3f5f\"},\"type\":\"carpet\"}],\"choropleth\":[{\"colorbar\":{\"outlinewidth\":0,\"ticks\":\"\"},\"type\":\"choropleth\"}],\"contour\":[{\"colorbar\":{\"outlinewidth\":0,\"ticks\":\"\"},\"colorscale\":[[0.0,\"#0d0887\"],[0.1111111111111111,\"#46039f\"],[0.2222222222222222,\"#7201a8\"],[0.3333333333333333,\"#9c179e\"],[0.4444444444444444,\"#bd3786\"],[0.5555555555555556,\"#d8576b\"],[0.6666666666666666,\"#ed7953\"],[0.7777777777777778,\"#fb9f3a\"],[0.8888888888888888,\"#fdca26\"],[1.0,\"#f0f921\"]],\"type\":\"contour\"}],\"contourcarpet\":[{\"colorbar\":{\"outlinewidth\":0,\"ticks\":\"\"},\"type\":\"contourcarpet\"}],\"heatmap\":[{\"colorbar\":{\"outlinewidth\":0,\"ticks\":\"\"},\"colorscale\":[[0.0,\"#0d0887\"],[0.1111111111111111,\"#46039f\"],[0.2222222222222222,\"#7201a8\"],[0.3333333333333333,\"#9c179e\"],[0.4444444444444444,\"#bd3786\"],[0.5555555555555556,\"#d8576b\"],[0.6666666666666666,\"#ed7953\"],[0.7777777777777778,\"#fb9f3a\"],[0.8888888888888888,\"#fdca26\"],[1.0,\"#f0f921\"]],\"type\":\"heatmap\"}],\"heatmapgl\":[{\"colorbar\":{\"outlinewidth\":0,\"ticks\":\"\"},\"colorscale\":[[0.0,\"#0d0887\"],[0.1111111111111111,\"#46039f\"],[0.2222222222222222,\"#7201a8\"],[0.3333333333333333,\"#9c179e\"],[0.4444444444444444,\"#bd3786\"],[0.5555555555555556,\"#d8576b\"],[0.6666666666666666,\"#ed7953\"],[0.7777777777777778,\"#fb9f3a\"],[0.8888888888888888,\"#fdca26\"],[1.0,\"#f0f921\"]],\"type\":\"heatmapgl\"}],\"histogram\":[{\"marker\":{\"pattern\":{\"fillmode\":\"overlay\",\"size\":10,\"solidity\":0.2}},\"type\":\"histogram\"}],\"histogram2d\":[{\"colorbar\":{\"outlinewidth\":0,\"ticks\":\"\"},\"colorscale\":[[0.0,\"#0d0887\"],[0.1111111111111111,\"#46039f\"],[0.2222222222222222,\"#7201a8\"],[0.3333333333333333,\"#9c179e\"],[0.4444444444444444,\"#bd3786\"],[0.5555555555555556,\"#d8576b\"],[0.6666666666666666,\"#ed7953\"],[0.7777777777777778,\"#fb9f3a\"],[0.8888888888888888,\"#fdca26\"],[1.0,\"#f0f921\"]],\"type\":\"histogram2d\"}],\"histogram2dcontour\":[{\"colorbar\":{\"outlinewidth\":0,\"ticks\":\"\"},\"colorscale\":[[0.0,\"#0d0887\"],[0.1111111111111111,\"#46039f\"],[0.2222222222222222,\"#7201a8\"],[0.3333333333333333,\"#9c179e\"],[0.4444444444444444,\"#bd3786\"],[0.5555555555555556,\"#d8576b\"],[0.6666666666666666,\"#ed7953\"],[0.7777777777777778,\"#fb9f3a\"],[0.8888888888888888,\"#fdca26\"],[1.0,\"#f0f921\"]],\"type\":\"histogram2dcontour\"}],\"mesh3d\":[{\"colorbar\":{\"outlinewidth\":0,\"ticks\":\"\"},\"type\":\"mesh3d\"}],\"parcoords\":[{\"line\":{\"colorbar\":{\"outlinewidth\":0,\"ticks\":\"\"}},\"type\":\"parcoords\"}],\"pie\":[{\"automargin\":true,\"type\":\"pie\"}],\"scatter\":[{\"marker\":{\"colorbar\":{\"outlinewidth\":0,\"ticks\":\"\"}},\"type\":\"scatter\"}],\"scatter3d\":[{\"line\":{\"colorbar\":{\"outlinewidth\":0,\"ticks\":\"\"}},\"marker\":{\"colorbar\":{\"outlinewidth\":0,\"ticks\":\"\"}},\"type\":\"scatter3d\"}],\"scattercarpet\":[{\"marker\":{\"colorbar\":{\"outlinewidth\":0,\"ticks\":\"\"}},\"type\":\"scattercarpet\"}],\"scattergeo\":[{\"marker\":{\"colorbar\":{\"outlinewidth\":0,\"ticks\":\"\"}},\"type\":\"scattergeo\"}],\"scattergl\":[{\"marker\":{\"colorbar\":{\"outlinewidth\":0,\"ticks\":\"\"}},\"type\":\"scattergl\"}],\"scattermapbox\":[{\"marker\":{\"colorbar\":{\"outlinewidth\":0,\"ticks\":\"\"}},\"type\":\"scattermapbox\"}],\"scatterpolar\":[{\"marker\":{\"colorbar\":{\"outlinewidth\":0,\"ticks\":\"\"}},\"type\":\"scatterpolar\"}],\"scatterpolargl\":[{\"marker\":{\"colorbar\":{\"outlinewidth\":0,\"ticks\":\"\"}},\"type\":\"scatterpolargl\"}],\"scatterternary\":[{\"marker\":{\"colorbar\":{\"outlinewidth\":0,\"ticks\":\"\"}},\"type\":\"scatterternary\"}],\"surface\":[{\"colorbar\":{\"outlinewidth\":0,\"ticks\":\"\"},\"colorscale\":[[0.0,\"#0d0887\"],[0.1111111111111111,\"#46039f\"],[0.2222222222222222,\"#7201a8\"],[0.3333333333333333,\"#9c179e\"],[0.4444444444444444,\"#bd3786\"],[0.5555555555555556,\"#d8576b\"],[0.6666666666666666,\"#ed7953\"],[0.7777777777777778,\"#fb9f3a\"],[0.8888888888888888,\"#fdca26\"],[1.0,\"#f0f921\"]],\"type\":\"surface\"}],\"table\":[{\"cells\":{\"fill\":{\"color\":\"#EBF0F8\"},\"line\":{\"color\":\"white\"}},\"header\":{\"fill\":{\"color\":\"#C8D4E3\"},\"line\":{\"color\":\"white\"}},\"type\":\"table\"}]},\"layout\":{\"annotationdefaults\":{\"arrowcolor\":\"#2a3f5f\",\"arrowhead\":0,\"arrowwidth\":1},\"autotypenumbers\":\"strict\",\"coloraxis\":{\"colorbar\":{\"outlinewidth\":0,\"ticks\":\"\"}},\"colorscale\":{\"diverging\":[[0,\"#8e0152\"],[0.1,\"#c51b7d\"],[0.2,\"#de77ae\"],[0.3,\"#f1b6da\"],[0.4,\"#fde0ef\"],[0.5,\"#f7f7f7\"],[0.6,\"#e6f5d0\"],[0.7,\"#b8e186\"],[0.8,\"#7fbc41\"],[0.9,\"#4d9221\"],[1,\"#276419\"]],\"sequential\":[[0.0,\"#0d0887\"],[0.1111111111111111,\"#46039f\"],[0.2222222222222222,\"#7201a8\"],[0.3333333333333333,\"#9c179e\"],[0.4444444444444444,\"#bd3786\"],[0.5555555555555556,\"#d8576b\"],[0.6666666666666666,\"#ed7953\"],[0.7777777777777778,\"#fb9f3a\"],[0.8888888888888888,\"#fdca26\"],[1.0,\"#f0f921\"]],\"sequentialminus\":[[0.0,\"#0d0887\"],[0.1111111111111111,\"#46039f\"],[0.2222222222222222,\"#7201a8\"],[0.3333333333333333,\"#9c179e\"],[0.4444444444444444,\"#bd3786\"],[0.5555555555555556,\"#d8576b\"],[0.6666666666666666,\"#ed7953\"],[0.7777777777777778,\"#fb9f3a\"],[0.8888888888888888,\"#fdca26\"],[1.0,\"#f0f921\"]]},\"colorway\":[\"#636efa\",\"#EF553B\",\"#00cc96\",\"#ab63fa\",\"#FFA15A\",\"#19d3f3\",\"#FF6692\",\"#B6E880\",\"#FF97FF\",\"#FECB52\"],\"font\":{\"color\":\"#2a3f5f\"},\"geo\":{\"bgcolor\":\"white\",\"lakecolor\":\"white\",\"landcolor\":\"white\",\"showlakes\":true,\"showland\":true,\"subunitcolor\":\"#C8D4E3\"},\"hoverlabel\":{\"align\":\"left\"},\"hovermode\":\"closest\",\"mapbox\":{\"style\":\"light\"},\"paper_bgcolor\":\"white\",\"plot_bgcolor\":\"white\",\"polar\":{\"angularaxis\":{\"gridcolor\":\"#EBF0F8\",\"linecolor\":\"#EBF0F8\",\"ticks\":\"\"},\"bgcolor\":\"white\",\"radialaxis\":{\"gridcolor\":\"#EBF0F8\",\"linecolor\":\"#EBF0F8\",\"ticks\":\"\"}},\"scene\":{\"xaxis\":{\"backgroundcolor\":\"white\",\"gridcolor\":\"#DFE8F3\",\"gridwidth\":2,\"linecolor\":\"#EBF0F8\",\"showbackground\":true,\"ticks\":\"\",\"zerolinecolor\":\"#EBF0F8\"},\"yaxis\":{\"backgroundcolor\":\"white\",\"gridcolor\":\"#DFE8F3\",\"gridwidth\":2,\"linecolor\":\"#EBF0F8\",\"showbackground\":true,\"ticks\":\"\",\"zerolinecolor\":\"#EBF0F8\"},\"zaxis\":{\"backgroundcolor\":\"white\",\"gridcolor\":\"#DFE8F3\",\"gridwidth\":2,\"linecolor\":\"#EBF0F8\",\"showbackground\":true,\"ticks\":\"\",\"zerolinecolor\":\"#EBF0F8\"}},\"shapedefaults\":{\"line\":{\"color\":\"#2a3f5f\"}},\"ternary\":{\"aaxis\":{\"gridcolor\":\"#DFE8F3\",\"linecolor\":\"#A2B1C6\",\"ticks\":\"\"},\"baxis\":{\"gridcolor\":\"#DFE8F3\",\"linecolor\":\"#A2B1C6\",\"ticks\":\"\"},\"bgcolor\":\"white\",\"caxis\":{\"gridcolor\":\"#DFE8F3\",\"linecolor\":\"#A2B1C6\",\"ticks\":\"\"}},\"title\":{\"x\":0.05},\"xaxis\":{\"automargin\":true,\"gridcolor\":\"#EBF0F8\",\"linecolor\":\"#EBF0F8\",\"ticks\":\"\",\"title\":{\"standoff\":15},\"zerolinecolor\":\"#EBF0F8\",\"zerolinewidth\":2},\"yaxis\":{\"automargin\":true,\"gridcolor\":\"#EBF0F8\",\"linecolor\":\"#EBF0F8\",\"ticks\":\"\",\"title\":{\"standoff\":15},\"zerolinecolor\":\"#EBF0F8\",\"zerolinewidth\":2}}},\"title\":{\"text\":\"Top 10 Charges by Judge\"},\"uniformtext\":{\"minsize\":8,\"mode\":\"show\"},\"xaxis\":{\"tickangle\":-35},\"yaxis\":{\"title\":{\"text\":\"Count\"}}},                        {\"responsive\": true}                    ).then(function(){\n",
       "                            \n",
       "var gd = document.getElementById('258698c6-780d-47de-af92-29bdc6fa7630');\n",
       "var x = new MutationObserver(function (mutations, observer) {{\n",
       "        var display = window.getComputedStyle(gd).display;\n",
       "        if (!display || display === 'none') {{\n",
       "            console.log([gd, 'removed!']);\n",
       "            Plotly.purge(gd);\n",
       "            observer.disconnect();\n",
       "        }}\n",
       "}});\n",
       "\n",
       "// Listen for the removal of the full notebook cells\n",
       "var notebookContainer = gd.closest('#notebook-container');\n",
       "if (notebookContainer) {{\n",
       "    x.observe(notebookContainer, {childList: true});\n",
       "}}\n",
       "\n",
       "// Listen for the clearing of the current output cell\n",
       "var outputEl = gd.closest('.output');\n",
       "if (outputEl) {{\n",
       "    x.observe(outputEl, {childList: true});\n",
       "}}\n",
       "\n",
       "                        })                };                });            </script>        </div>"
      ]
     },
     "metadata": {},
     "output_type": "display_data"
    }
   ],
   "source": [
    "top_charges = top_charges.reset_index()\n",
    "\n",
    "data = []\n",
    "for judge in top_charges.Judge.unique():\n",
    "    data.append(\n",
    "        go.Bar(name=judge, \n",
    "               x=top_charges[top_charges.Judge==judge].Description, \n",
    "               y=top_charges[top_charges.Judge==judge]['Charge Number']\n",
    "              )\n",
    "        )\n",
    "\n",
    "fig = go.Figure(data)\n",
    "fig.update_layout(title='Top 10 Charges by Judge', uniformtext_minsize=8, \n",
    "                  uniformtext_mode='show',barmode='group', xaxis_tickangle=-35,\n",
    "                 yaxis={'title': 'Count'})\n",
    "\n",
    "fig.show()"
   ]
  },
  {
   "cell_type": "markdown",
   "id": "d31434c6",
   "metadata": {},
   "source": [
    "The same data is plotted in a bar chart above. Here's a brief summary of this figure:\n",
    "\n",
    "1. The charge that appeared most in Judge Ward's courtroom was **Aggravated Assault** while the charge that appeared most in Judge Skahan's courtroom was **Burglary - Motor Vehicle**.\n",
    "2. Judge Ward received more than double the number of **Aggravated Assault** cases compared to Judge Skahan (73 to 29).\n",
    "3. Judge Ward's second highest seen charge was **Aggravated Robbery** for which Judge Skahan saw none.\n",
    "4. Judge Skahan's second highest seen charge was tied between **First Degree Murder** and **Driving U/Influence Intox/Drugs**. However, Judge Ward still had more cases of **First Degree Murder**. \n",
    "\n",
    "This begs the question, which Judge presided over more serious crimes? To answer that I summarize the top charges for each judge in terms of the Level of the crime."
   ]
  },
  {
   "cell_type": "code",
   "execution_count": 277,
   "id": "4a92b44f",
   "metadata": {},
   "outputs": [
    {
     "data": {
      "text/html": [
       "<div>\n",
       "<style scoped>\n",
       "    .dataframe tbody tr th:only-of-type {\n",
       "        vertical-align: middle;\n",
       "    }\n",
       "\n",
       "    .dataframe tbody tr th {\n",
       "        vertical-align: top;\n",
       "    }\n",
       "\n",
       "    .dataframe thead th {\n",
       "        text-align: right;\n",
       "    }\n",
       "</style>\n",
       "<table border=\"1\" class=\"dataframe\">\n",
       "  <thead>\n",
       "    <tr style=\"text-align: right;\">\n",
       "      <th></th>\n",
       "      <th></th>\n",
       "      <th>Charge Number</th>\n",
       "    </tr>\n",
       "    <tr>\n",
       "      <th>Judge</th>\n",
       "      <th>Level</th>\n",
       "      <th></th>\n",
       "    </tr>\n",
       "  </thead>\n",
       "  <tbody>\n",
       "    <tr>\n",
       "      <th rowspan=\"7\" valign=\"top\">Division I - Judge Paula Skahan</th>\n",
       "      <th>Civil-Petition</th>\n",
       "      <td>17</td>\n",
       "    </tr>\n",
       "    <tr>\n",
       "      <th>Felony B</th>\n",
       "      <td>29</td>\n",
       "    </tr>\n",
       "    <tr>\n",
       "      <th>Felony C</th>\n",
       "      <td>47</td>\n",
       "    </tr>\n",
       "    <tr>\n",
       "      <th>Felony D</th>\n",
       "      <td>30</td>\n",
       "    </tr>\n",
       "    <tr>\n",
       "      <th>Felony E</th>\n",
       "      <td>59</td>\n",
       "    </tr>\n",
       "    <tr>\n",
       "      <th>Felony M</th>\n",
       "      <td>36</td>\n",
       "    </tr>\n",
       "    <tr>\n",
       "      <th>Misdemeanor A</th>\n",
       "      <td>90</td>\n",
       "    </tr>\n",
       "    <tr>\n",
       "      <th rowspan=\"6\" valign=\"top\">Division IX - Judge W. Mark Ward</th>\n",
       "      <th>Civil Ordinances</th>\n",
       "      <td>24</td>\n",
       "    </tr>\n",
       "    <tr>\n",
       "      <th>Civil-Petition</th>\n",
       "      <td>28</td>\n",
       "    </tr>\n",
       "    <tr>\n",
       "      <th>Felony B</th>\n",
       "      <td>98</td>\n",
       "    </tr>\n",
       "    <tr>\n",
       "      <th>Felony C</th>\n",
       "      <td>170</td>\n",
       "    </tr>\n",
       "    <tr>\n",
       "      <th>Felony D</th>\n",
       "      <td>66</td>\n",
       "    </tr>\n",
       "    <tr>\n",
       "      <th>Felony M</th>\n",
       "      <td>41</td>\n",
       "    </tr>\n",
       "  </tbody>\n",
       "</table>\n",
       "</div>"
      ],
      "text/plain": [
       "                                                   Charge Number\n",
       "Judge                            Level                          \n",
       "Division I - Judge Paula Skahan  Civil-Petition               17\n",
       "                                 Felony B                     29\n",
       "                                 Felony C                     47\n",
       "                                 Felony D                     30\n",
       "                                 Felony E                     59\n",
       "                                 Felony M                     36\n",
       "                                 Misdemeanor A                90\n",
       "Division IX - Judge W. Mark Ward Civil Ordinances             24\n",
       "                                 Civil-Petition               28\n",
       "                                 Felony B                     98\n",
       "                                 Felony C                    170\n",
       "                                 Felony D                     66\n",
       "                                 Felony M                     41"
      ]
     },
     "execution_count": 277,
     "metadata": {},
     "output_type": "execute_result"
    }
   ],
   "source": [
    "top_charges_by_level = top_charges.merge(charge_levels, left_on='Description', right_on='Description', how='left')\n",
    "top_charges_by_level = top_charges_by_level[['Judge', 'Level', 'Charge Number']].groupby(['Judge', 'Level']).sum()\n",
    "top_charges_by_level"
   ]
  },
  {
   "cell_type": "code",
   "execution_count": 278,
   "id": "49e43565",
   "metadata": {
    "scrolled": false
   },
   "outputs": [
    {
     "data": {
      "application/vnd.plotly.v1+json": {
       "config": {
        "plotlyServerURL": "https://plot.ly"
       },
       "data": [
        {
         "name": "Division IX - Judge W. Mark Ward",
         "type": "bar",
         "x": [
          "Civil Ordinances",
          "Civil-Petition",
          "Felony B",
          "Felony C",
          "Felony D",
          "Felony M"
         ],
         "y": [
          24,
          28,
          98,
          170,
          66,
          41
         ]
        },
        {
         "name": "Division I - Judge Paula Skahan",
         "type": "bar",
         "x": [
          "Civil-Petition",
          "Felony B",
          "Felony C",
          "Felony D",
          "Felony E",
          "Felony M",
          "Misdemeanor A"
         ],
         "y": [
          17,
          29,
          47,
          30,
          59,
          36,
          90
         ]
        }
       ],
       "layout": {
        "barmode": "group",
        "template": {
         "data": {
          "bar": [
           {
            "error_x": {
             "color": "#2a3f5f"
            },
            "error_y": {
             "color": "#2a3f5f"
            },
            "marker": {
             "line": {
              "color": "white",
              "width": 0.5
             },
             "pattern": {
              "fillmode": "overlay",
              "size": 10,
              "solidity": 0.2
             }
            },
            "type": "bar"
           }
          ],
          "barpolar": [
           {
            "marker": {
             "line": {
              "color": "white",
              "width": 0.5
             },
             "pattern": {
              "fillmode": "overlay",
              "size": 10,
              "solidity": 0.2
             }
            },
            "type": "barpolar"
           }
          ],
          "carpet": [
           {
            "aaxis": {
             "endlinecolor": "#2a3f5f",
             "gridcolor": "#C8D4E3",
             "linecolor": "#C8D4E3",
             "minorgridcolor": "#C8D4E3",
             "startlinecolor": "#2a3f5f"
            },
            "baxis": {
             "endlinecolor": "#2a3f5f",
             "gridcolor": "#C8D4E3",
             "linecolor": "#C8D4E3",
             "minorgridcolor": "#C8D4E3",
             "startlinecolor": "#2a3f5f"
            },
            "type": "carpet"
           }
          ],
          "choropleth": [
           {
            "colorbar": {
             "outlinewidth": 0,
             "ticks": ""
            },
            "type": "choropleth"
           }
          ],
          "contour": [
           {
            "colorbar": {
             "outlinewidth": 0,
             "ticks": ""
            },
            "colorscale": [
             [
              0,
              "#0d0887"
             ],
             [
              0.1111111111111111,
              "#46039f"
             ],
             [
              0.2222222222222222,
              "#7201a8"
             ],
             [
              0.3333333333333333,
              "#9c179e"
             ],
             [
              0.4444444444444444,
              "#bd3786"
             ],
             [
              0.5555555555555556,
              "#d8576b"
             ],
             [
              0.6666666666666666,
              "#ed7953"
             ],
             [
              0.7777777777777778,
              "#fb9f3a"
             ],
             [
              0.8888888888888888,
              "#fdca26"
             ],
             [
              1,
              "#f0f921"
             ]
            ],
            "type": "contour"
           }
          ],
          "contourcarpet": [
           {
            "colorbar": {
             "outlinewidth": 0,
             "ticks": ""
            },
            "type": "contourcarpet"
           }
          ],
          "heatmap": [
           {
            "colorbar": {
             "outlinewidth": 0,
             "ticks": ""
            },
            "colorscale": [
             [
              0,
              "#0d0887"
             ],
             [
              0.1111111111111111,
              "#46039f"
             ],
             [
              0.2222222222222222,
              "#7201a8"
             ],
             [
              0.3333333333333333,
              "#9c179e"
             ],
             [
              0.4444444444444444,
              "#bd3786"
             ],
             [
              0.5555555555555556,
              "#d8576b"
             ],
             [
              0.6666666666666666,
              "#ed7953"
             ],
             [
              0.7777777777777778,
              "#fb9f3a"
             ],
             [
              0.8888888888888888,
              "#fdca26"
             ],
             [
              1,
              "#f0f921"
             ]
            ],
            "type": "heatmap"
           }
          ],
          "heatmapgl": [
           {
            "colorbar": {
             "outlinewidth": 0,
             "ticks": ""
            },
            "colorscale": [
             [
              0,
              "#0d0887"
             ],
             [
              0.1111111111111111,
              "#46039f"
             ],
             [
              0.2222222222222222,
              "#7201a8"
             ],
             [
              0.3333333333333333,
              "#9c179e"
             ],
             [
              0.4444444444444444,
              "#bd3786"
             ],
             [
              0.5555555555555556,
              "#d8576b"
             ],
             [
              0.6666666666666666,
              "#ed7953"
             ],
             [
              0.7777777777777778,
              "#fb9f3a"
             ],
             [
              0.8888888888888888,
              "#fdca26"
             ],
             [
              1,
              "#f0f921"
             ]
            ],
            "type": "heatmapgl"
           }
          ],
          "histogram": [
           {
            "marker": {
             "pattern": {
              "fillmode": "overlay",
              "size": 10,
              "solidity": 0.2
             }
            },
            "type": "histogram"
           }
          ],
          "histogram2d": [
           {
            "colorbar": {
             "outlinewidth": 0,
             "ticks": ""
            },
            "colorscale": [
             [
              0,
              "#0d0887"
             ],
             [
              0.1111111111111111,
              "#46039f"
             ],
             [
              0.2222222222222222,
              "#7201a8"
             ],
             [
              0.3333333333333333,
              "#9c179e"
             ],
             [
              0.4444444444444444,
              "#bd3786"
             ],
             [
              0.5555555555555556,
              "#d8576b"
             ],
             [
              0.6666666666666666,
              "#ed7953"
             ],
             [
              0.7777777777777778,
              "#fb9f3a"
             ],
             [
              0.8888888888888888,
              "#fdca26"
             ],
             [
              1,
              "#f0f921"
             ]
            ],
            "type": "histogram2d"
           }
          ],
          "histogram2dcontour": [
           {
            "colorbar": {
             "outlinewidth": 0,
             "ticks": ""
            },
            "colorscale": [
             [
              0,
              "#0d0887"
             ],
             [
              0.1111111111111111,
              "#46039f"
             ],
             [
              0.2222222222222222,
              "#7201a8"
             ],
             [
              0.3333333333333333,
              "#9c179e"
             ],
             [
              0.4444444444444444,
              "#bd3786"
             ],
             [
              0.5555555555555556,
              "#d8576b"
             ],
             [
              0.6666666666666666,
              "#ed7953"
             ],
             [
              0.7777777777777778,
              "#fb9f3a"
             ],
             [
              0.8888888888888888,
              "#fdca26"
             ],
             [
              1,
              "#f0f921"
             ]
            ],
            "type": "histogram2dcontour"
           }
          ],
          "mesh3d": [
           {
            "colorbar": {
             "outlinewidth": 0,
             "ticks": ""
            },
            "type": "mesh3d"
           }
          ],
          "parcoords": [
           {
            "line": {
             "colorbar": {
              "outlinewidth": 0,
              "ticks": ""
             }
            },
            "type": "parcoords"
           }
          ],
          "pie": [
           {
            "automargin": true,
            "type": "pie"
           }
          ],
          "scatter": [
           {
            "marker": {
             "colorbar": {
              "outlinewidth": 0,
              "ticks": ""
             }
            },
            "type": "scatter"
           }
          ],
          "scatter3d": [
           {
            "line": {
             "colorbar": {
              "outlinewidth": 0,
              "ticks": ""
             }
            },
            "marker": {
             "colorbar": {
              "outlinewidth": 0,
              "ticks": ""
             }
            },
            "type": "scatter3d"
           }
          ],
          "scattercarpet": [
           {
            "marker": {
             "colorbar": {
              "outlinewidth": 0,
              "ticks": ""
             }
            },
            "type": "scattercarpet"
           }
          ],
          "scattergeo": [
           {
            "marker": {
             "colorbar": {
              "outlinewidth": 0,
              "ticks": ""
             }
            },
            "type": "scattergeo"
           }
          ],
          "scattergl": [
           {
            "marker": {
             "colorbar": {
              "outlinewidth": 0,
              "ticks": ""
             }
            },
            "type": "scattergl"
           }
          ],
          "scattermapbox": [
           {
            "marker": {
             "colorbar": {
              "outlinewidth": 0,
              "ticks": ""
             }
            },
            "type": "scattermapbox"
           }
          ],
          "scatterpolar": [
           {
            "marker": {
             "colorbar": {
              "outlinewidth": 0,
              "ticks": ""
             }
            },
            "type": "scatterpolar"
           }
          ],
          "scatterpolargl": [
           {
            "marker": {
             "colorbar": {
              "outlinewidth": 0,
              "ticks": ""
             }
            },
            "type": "scatterpolargl"
           }
          ],
          "scatterternary": [
           {
            "marker": {
             "colorbar": {
              "outlinewidth": 0,
              "ticks": ""
             }
            },
            "type": "scatterternary"
           }
          ],
          "surface": [
           {
            "colorbar": {
             "outlinewidth": 0,
             "ticks": ""
            },
            "colorscale": [
             [
              0,
              "#0d0887"
             ],
             [
              0.1111111111111111,
              "#46039f"
             ],
             [
              0.2222222222222222,
              "#7201a8"
             ],
             [
              0.3333333333333333,
              "#9c179e"
             ],
             [
              0.4444444444444444,
              "#bd3786"
             ],
             [
              0.5555555555555556,
              "#d8576b"
             ],
             [
              0.6666666666666666,
              "#ed7953"
             ],
             [
              0.7777777777777778,
              "#fb9f3a"
             ],
             [
              0.8888888888888888,
              "#fdca26"
             ],
             [
              1,
              "#f0f921"
             ]
            ],
            "type": "surface"
           }
          ],
          "table": [
           {
            "cells": {
             "fill": {
              "color": "#EBF0F8"
             },
             "line": {
              "color": "white"
             }
            },
            "header": {
             "fill": {
              "color": "#C8D4E3"
             },
             "line": {
              "color": "white"
             }
            },
            "type": "table"
           }
          ]
         },
         "layout": {
          "annotationdefaults": {
           "arrowcolor": "#2a3f5f",
           "arrowhead": 0,
           "arrowwidth": 1
          },
          "autotypenumbers": "strict",
          "coloraxis": {
           "colorbar": {
            "outlinewidth": 0,
            "ticks": ""
           }
          },
          "colorscale": {
           "diverging": [
            [
             0,
             "#8e0152"
            ],
            [
             0.1,
             "#c51b7d"
            ],
            [
             0.2,
             "#de77ae"
            ],
            [
             0.3,
             "#f1b6da"
            ],
            [
             0.4,
             "#fde0ef"
            ],
            [
             0.5,
             "#f7f7f7"
            ],
            [
             0.6,
             "#e6f5d0"
            ],
            [
             0.7,
             "#b8e186"
            ],
            [
             0.8,
             "#7fbc41"
            ],
            [
             0.9,
             "#4d9221"
            ],
            [
             1,
             "#276419"
            ]
           ],
           "sequential": [
            [
             0,
             "#0d0887"
            ],
            [
             0.1111111111111111,
             "#46039f"
            ],
            [
             0.2222222222222222,
             "#7201a8"
            ],
            [
             0.3333333333333333,
             "#9c179e"
            ],
            [
             0.4444444444444444,
             "#bd3786"
            ],
            [
             0.5555555555555556,
             "#d8576b"
            ],
            [
             0.6666666666666666,
             "#ed7953"
            ],
            [
             0.7777777777777778,
             "#fb9f3a"
            ],
            [
             0.8888888888888888,
             "#fdca26"
            ],
            [
             1,
             "#f0f921"
            ]
           ],
           "sequentialminus": [
            [
             0,
             "#0d0887"
            ],
            [
             0.1111111111111111,
             "#46039f"
            ],
            [
             0.2222222222222222,
             "#7201a8"
            ],
            [
             0.3333333333333333,
             "#9c179e"
            ],
            [
             0.4444444444444444,
             "#bd3786"
            ],
            [
             0.5555555555555556,
             "#d8576b"
            ],
            [
             0.6666666666666666,
             "#ed7953"
            ],
            [
             0.7777777777777778,
             "#fb9f3a"
            ],
            [
             0.8888888888888888,
             "#fdca26"
            ],
            [
             1,
             "#f0f921"
            ]
           ]
          },
          "colorway": [
           "#636efa",
           "#EF553B",
           "#00cc96",
           "#ab63fa",
           "#FFA15A",
           "#19d3f3",
           "#FF6692",
           "#B6E880",
           "#FF97FF",
           "#FECB52"
          ],
          "font": {
           "color": "#2a3f5f"
          },
          "geo": {
           "bgcolor": "white",
           "lakecolor": "white",
           "landcolor": "white",
           "showlakes": true,
           "showland": true,
           "subunitcolor": "#C8D4E3"
          },
          "hoverlabel": {
           "align": "left"
          },
          "hovermode": "closest",
          "mapbox": {
           "style": "light"
          },
          "paper_bgcolor": "white",
          "plot_bgcolor": "white",
          "polar": {
           "angularaxis": {
            "gridcolor": "#EBF0F8",
            "linecolor": "#EBF0F8",
            "ticks": ""
           },
           "bgcolor": "white",
           "radialaxis": {
            "gridcolor": "#EBF0F8",
            "linecolor": "#EBF0F8",
            "ticks": ""
           }
          },
          "scene": {
           "xaxis": {
            "backgroundcolor": "white",
            "gridcolor": "#DFE8F3",
            "gridwidth": 2,
            "linecolor": "#EBF0F8",
            "showbackground": true,
            "ticks": "",
            "zerolinecolor": "#EBF0F8"
           },
           "yaxis": {
            "backgroundcolor": "white",
            "gridcolor": "#DFE8F3",
            "gridwidth": 2,
            "linecolor": "#EBF0F8",
            "showbackground": true,
            "ticks": "",
            "zerolinecolor": "#EBF0F8"
           },
           "zaxis": {
            "backgroundcolor": "white",
            "gridcolor": "#DFE8F3",
            "gridwidth": 2,
            "linecolor": "#EBF0F8",
            "showbackground": true,
            "ticks": "",
            "zerolinecolor": "#EBF0F8"
           }
          },
          "shapedefaults": {
           "line": {
            "color": "#2a3f5f"
           }
          },
          "ternary": {
           "aaxis": {
            "gridcolor": "#DFE8F3",
            "linecolor": "#A2B1C6",
            "ticks": ""
           },
           "baxis": {
            "gridcolor": "#DFE8F3",
            "linecolor": "#A2B1C6",
            "ticks": ""
           },
           "bgcolor": "white",
           "caxis": {
            "gridcolor": "#DFE8F3",
            "linecolor": "#A2B1C6",
            "ticks": ""
           }
          },
          "title": {
           "x": 0.05
          },
          "xaxis": {
           "automargin": true,
           "gridcolor": "#EBF0F8",
           "linecolor": "#EBF0F8",
           "ticks": "",
           "title": {
            "standoff": 15
           },
           "zerolinecolor": "#EBF0F8",
           "zerolinewidth": 2
          },
          "yaxis": {
           "automargin": true,
           "gridcolor": "#EBF0F8",
           "linecolor": "#EBF0F8",
           "ticks": "",
           "title": {
            "standoff": 15
           },
           "zerolinecolor": "#EBF0F8",
           "zerolinewidth": 2
          }
         }
        },
        "title": {
         "text": "Charge Level Counts"
        },
        "uniformtext": {
         "minsize": 8,
         "mode": "show"
        },
        "xaxis": {
         "tickangle": -35,
         "type": "category"
        },
        "yaxis": {
         "title": {
          "text": "Count"
         }
        }
       }
      },
      "text/html": [
       "<div>                            <div id=\"dca6654b-1442-4d1d-9ce3-c2b8cf7ef050\" class=\"plotly-graph-div\" style=\"height:525px; width:100%;\"></div>            <script type=\"text/javascript\">                require([\"plotly\"], function(Plotly) {                    window.PLOTLYENV=window.PLOTLYENV || {};                                    if (document.getElementById(\"dca6654b-1442-4d1d-9ce3-c2b8cf7ef050\")) {                    Plotly.newPlot(                        \"dca6654b-1442-4d1d-9ce3-c2b8cf7ef050\",                        [{\"name\":\"Division IX - Judge W. Mark Ward\",\"type\":\"bar\",\"x\":[\"Civil Ordinances\",\"Civil-Petition\",\"Felony B\",\"Felony C\",\"Felony D\",\"Felony M\"],\"y\":[24,28,98,170,66,41]},{\"name\":\"Division I - Judge Paula Skahan\",\"type\":\"bar\",\"x\":[\"Civil-Petition\",\"Felony B\",\"Felony C\",\"Felony D\",\"Felony E\",\"Felony M\",\"Misdemeanor A\"],\"y\":[17,29,47,30,59,36,90]}],                        {\"barmode\":\"group\",\"template\":{\"data\":{\"bar\":[{\"error_x\":{\"color\":\"#2a3f5f\"},\"error_y\":{\"color\":\"#2a3f5f\"},\"marker\":{\"line\":{\"color\":\"white\",\"width\":0.5},\"pattern\":{\"fillmode\":\"overlay\",\"size\":10,\"solidity\":0.2}},\"type\":\"bar\"}],\"barpolar\":[{\"marker\":{\"line\":{\"color\":\"white\",\"width\":0.5},\"pattern\":{\"fillmode\":\"overlay\",\"size\":10,\"solidity\":0.2}},\"type\":\"barpolar\"}],\"carpet\":[{\"aaxis\":{\"endlinecolor\":\"#2a3f5f\",\"gridcolor\":\"#C8D4E3\",\"linecolor\":\"#C8D4E3\",\"minorgridcolor\":\"#C8D4E3\",\"startlinecolor\":\"#2a3f5f\"},\"baxis\":{\"endlinecolor\":\"#2a3f5f\",\"gridcolor\":\"#C8D4E3\",\"linecolor\":\"#C8D4E3\",\"minorgridcolor\":\"#C8D4E3\",\"startlinecolor\":\"#2a3f5f\"},\"type\":\"carpet\"}],\"choropleth\":[{\"colorbar\":{\"outlinewidth\":0,\"ticks\":\"\"},\"type\":\"choropleth\"}],\"contour\":[{\"colorbar\":{\"outlinewidth\":0,\"ticks\":\"\"},\"colorscale\":[[0.0,\"#0d0887\"],[0.1111111111111111,\"#46039f\"],[0.2222222222222222,\"#7201a8\"],[0.3333333333333333,\"#9c179e\"],[0.4444444444444444,\"#bd3786\"],[0.5555555555555556,\"#d8576b\"],[0.6666666666666666,\"#ed7953\"],[0.7777777777777778,\"#fb9f3a\"],[0.8888888888888888,\"#fdca26\"],[1.0,\"#f0f921\"]],\"type\":\"contour\"}],\"contourcarpet\":[{\"colorbar\":{\"outlinewidth\":0,\"ticks\":\"\"},\"type\":\"contourcarpet\"}],\"heatmap\":[{\"colorbar\":{\"outlinewidth\":0,\"ticks\":\"\"},\"colorscale\":[[0.0,\"#0d0887\"],[0.1111111111111111,\"#46039f\"],[0.2222222222222222,\"#7201a8\"],[0.3333333333333333,\"#9c179e\"],[0.4444444444444444,\"#bd3786\"],[0.5555555555555556,\"#d8576b\"],[0.6666666666666666,\"#ed7953\"],[0.7777777777777778,\"#fb9f3a\"],[0.8888888888888888,\"#fdca26\"],[1.0,\"#f0f921\"]],\"type\":\"heatmap\"}],\"heatmapgl\":[{\"colorbar\":{\"outlinewidth\":0,\"ticks\":\"\"},\"colorscale\":[[0.0,\"#0d0887\"],[0.1111111111111111,\"#46039f\"],[0.2222222222222222,\"#7201a8\"],[0.3333333333333333,\"#9c179e\"],[0.4444444444444444,\"#bd3786\"],[0.5555555555555556,\"#d8576b\"],[0.6666666666666666,\"#ed7953\"],[0.7777777777777778,\"#fb9f3a\"],[0.8888888888888888,\"#fdca26\"],[1.0,\"#f0f921\"]],\"type\":\"heatmapgl\"}],\"histogram\":[{\"marker\":{\"pattern\":{\"fillmode\":\"overlay\",\"size\":10,\"solidity\":0.2}},\"type\":\"histogram\"}],\"histogram2d\":[{\"colorbar\":{\"outlinewidth\":0,\"ticks\":\"\"},\"colorscale\":[[0.0,\"#0d0887\"],[0.1111111111111111,\"#46039f\"],[0.2222222222222222,\"#7201a8\"],[0.3333333333333333,\"#9c179e\"],[0.4444444444444444,\"#bd3786\"],[0.5555555555555556,\"#d8576b\"],[0.6666666666666666,\"#ed7953\"],[0.7777777777777778,\"#fb9f3a\"],[0.8888888888888888,\"#fdca26\"],[1.0,\"#f0f921\"]],\"type\":\"histogram2d\"}],\"histogram2dcontour\":[{\"colorbar\":{\"outlinewidth\":0,\"ticks\":\"\"},\"colorscale\":[[0.0,\"#0d0887\"],[0.1111111111111111,\"#46039f\"],[0.2222222222222222,\"#7201a8\"],[0.3333333333333333,\"#9c179e\"],[0.4444444444444444,\"#bd3786\"],[0.5555555555555556,\"#d8576b\"],[0.6666666666666666,\"#ed7953\"],[0.7777777777777778,\"#fb9f3a\"],[0.8888888888888888,\"#fdca26\"],[1.0,\"#f0f921\"]],\"type\":\"histogram2dcontour\"}],\"mesh3d\":[{\"colorbar\":{\"outlinewidth\":0,\"ticks\":\"\"},\"type\":\"mesh3d\"}],\"parcoords\":[{\"line\":{\"colorbar\":{\"outlinewidth\":0,\"ticks\":\"\"}},\"type\":\"parcoords\"}],\"pie\":[{\"automargin\":true,\"type\":\"pie\"}],\"scatter\":[{\"marker\":{\"colorbar\":{\"outlinewidth\":0,\"ticks\":\"\"}},\"type\":\"scatter\"}],\"scatter3d\":[{\"line\":{\"colorbar\":{\"outlinewidth\":0,\"ticks\":\"\"}},\"marker\":{\"colorbar\":{\"outlinewidth\":0,\"ticks\":\"\"}},\"type\":\"scatter3d\"}],\"scattercarpet\":[{\"marker\":{\"colorbar\":{\"outlinewidth\":0,\"ticks\":\"\"}},\"type\":\"scattercarpet\"}],\"scattergeo\":[{\"marker\":{\"colorbar\":{\"outlinewidth\":0,\"ticks\":\"\"}},\"type\":\"scattergeo\"}],\"scattergl\":[{\"marker\":{\"colorbar\":{\"outlinewidth\":0,\"ticks\":\"\"}},\"type\":\"scattergl\"}],\"scattermapbox\":[{\"marker\":{\"colorbar\":{\"outlinewidth\":0,\"ticks\":\"\"}},\"type\":\"scattermapbox\"}],\"scatterpolar\":[{\"marker\":{\"colorbar\":{\"outlinewidth\":0,\"ticks\":\"\"}},\"type\":\"scatterpolar\"}],\"scatterpolargl\":[{\"marker\":{\"colorbar\":{\"outlinewidth\":0,\"ticks\":\"\"}},\"type\":\"scatterpolargl\"}],\"scatterternary\":[{\"marker\":{\"colorbar\":{\"outlinewidth\":0,\"ticks\":\"\"}},\"type\":\"scatterternary\"}],\"surface\":[{\"colorbar\":{\"outlinewidth\":0,\"ticks\":\"\"},\"colorscale\":[[0.0,\"#0d0887\"],[0.1111111111111111,\"#46039f\"],[0.2222222222222222,\"#7201a8\"],[0.3333333333333333,\"#9c179e\"],[0.4444444444444444,\"#bd3786\"],[0.5555555555555556,\"#d8576b\"],[0.6666666666666666,\"#ed7953\"],[0.7777777777777778,\"#fb9f3a\"],[0.8888888888888888,\"#fdca26\"],[1.0,\"#f0f921\"]],\"type\":\"surface\"}],\"table\":[{\"cells\":{\"fill\":{\"color\":\"#EBF0F8\"},\"line\":{\"color\":\"white\"}},\"header\":{\"fill\":{\"color\":\"#C8D4E3\"},\"line\":{\"color\":\"white\"}},\"type\":\"table\"}]},\"layout\":{\"annotationdefaults\":{\"arrowcolor\":\"#2a3f5f\",\"arrowhead\":0,\"arrowwidth\":1},\"autotypenumbers\":\"strict\",\"coloraxis\":{\"colorbar\":{\"outlinewidth\":0,\"ticks\":\"\"}},\"colorscale\":{\"diverging\":[[0,\"#8e0152\"],[0.1,\"#c51b7d\"],[0.2,\"#de77ae\"],[0.3,\"#f1b6da\"],[0.4,\"#fde0ef\"],[0.5,\"#f7f7f7\"],[0.6,\"#e6f5d0\"],[0.7,\"#b8e186\"],[0.8,\"#7fbc41\"],[0.9,\"#4d9221\"],[1,\"#276419\"]],\"sequential\":[[0.0,\"#0d0887\"],[0.1111111111111111,\"#46039f\"],[0.2222222222222222,\"#7201a8\"],[0.3333333333333333,\"#9c179e\"],[0.4444444444444444,\"#bd3786\"],[0.5555555555555556,\"#d8576b\"],[0.6666666666666666,\"#ed7953\"],[0.7777777777777778,\"#fb9f3a\"],[0.8888888888888888,\"#fdca26\"],[1.0,\"#f0f921\"]],\"sequentialminus\":[[0.0,\"#0d0887\"],[0.1111111111111111,\"#46039f\"],[0.2222222222222222,\"#7201a8\"],[0.3333333333333333,\"#9c179e\"],[0.4444444444444444,\"#bd3786\"],[0.5555555555555556,\"#d8576b\"],[0.6666666666666666,\"#ed7953\"],[0.7777777777777778,\"#fb9f3a\"],[0.8888888888888888,\"#fdca26\"],[1.0,\"#f0f921\"]]},\"colorway\":[\"#636efa\",\"#EF553B\",\"#00cc96\",\"#ab63fa\",\"#FFA15A\",\"#19d3f3\",\"#FF6692\",\"#B6E880\",\"#FF97FF\",\"#FECB52\"],\"font\":{\"color\":\"#2a3f5f\"},\"geo\":{\"bgcolor\":\"white\",\"lakecolor\":\"white\",\"landcolor\":\"white\",\"showlakes\":true,\"showland\":true,\"subunitcolor\":\"#C8D4E3\"},\"hoverlabel\":{\"align\":\"left\"},\"hovermode\":\"closest\",\"mapbox\":{\"style\":\"light\"},\"paper_bgcolor\":\"white\",\"plot_bgcolor\":\"white\",\"polar\":{\"angularaxis\":{\"gridcolor\":\"#EBF0F8\",\"linecolor\":\"#EBF0F8\",\"ticks\":\"\"},\"bgcolor\":\"white\",\"radialaxis\":{\"gridcolor\":\"#EBF0F8\",\"linecolor\":\"#EBF0F8\",\"ticks\":\"\"}},\"scene\":{\"xaxis\":{\"backgroundcolor\":\"white\",\"gridcolor\":\"#DFE8F3\",\"gridwidth\":2,\"linecolor\":\"#EBF0F8\",\"showbackground\":true,\"ticks\":\"\",\"zerolinecolor\":\"#EBF0F8\"},\"yaxis\":{\"backgroundcolor\":\"white\",\"gridcolor\":\"#DFE8F3\",\"gridwidth\":2,\"linecolor\":\"#EBF0F8\",\"showbackground\":true,\"ticks\":\"\",\"zerolinecolor\":\"#EBF0F8\"},\"zaxis\":{\"backgroundcolor\":\"white\",\"gridcolor\":\"#DFE8F3\",\"gridwidth\":2,\"linecolor\":\"#EBF0F8\",\"showbackground\":true,\"ticks\":\"\",\"zerolinecolor\":\"#EBF0F8\"}},\"shapedefaults\":{\"line\":{\"color\":\"#2a3f5f\"}},\"ternary\":{\"aaxis\":{\"gridcolor\":\"#DFE8F3\",\"linecolor\":\"#A2B1C6\",\"ticks\":\"\"},\"baxis\":{\"gridcolor\":\"#DFE8F3\",\"linecolor\":\"#A2B1C6\",\"ticks\":\"\"},\"bgcolor\":\"white\",\"caxis\":{\"gridcolor\":\"#DFE8F3\",\"linecolor\":\"#A2B1C6\",\"ticks\":\"\"}},\"title\":{\"x\":0.05},\"xaxis\":{\"automargin\":true,\"gridcolor\":\"#EBF0F8\",\"linecolor\":\"#EBF0F8\",\"ticks\":\"\",\"title\":{\"standoff\":15},\"zerolinecolor\":\"#EBF0F8\",\"zerolinewidth\":2},\"yaxis\":{\"automargin\":true,\"gridcolor\":\"#EBF0F8\",\"linecolor\":\"#EBF0F8\",\"ticks\":\"\",\"title\":{\"standoff\":15},\"zerolinecolor\":\"#EBF0F8\",\"zerolinewidth\":2}}},\"title\":{\"text\":\"Charge Level Counts\"},\"uniformtext\":{\"minsize\":8,\"mode\":\"show\"},\"xaxis\":{\"tickangle\":-35,\"type\":\"category\"},\"yaxis\":{\"title\":{\"text\":\"Count\"}}},                        {\"responsive\": true}                    ).then(function(){\n",
       "                            \n",
       "var gd = document.getElementById('dca6654b-1442-4d1d-9ce3-c2b8cf7ef050');\n",
       "var x = new MutationObserver(function (mutations, observer) {{\n",
       "        var display = window.getComputedStyle(gd).display;\n",
       "        if (!display || display === 'none') {{\n",
       "            console.log([gd, 'removed!']);\n",
       "            Plotly.purge(gd);\n",
       "            observer.disconnect();\n",
       "        }}\n",
       "}});\n",
       "\n",
       "// Listen for the removal of the full notebook cells\n",
       "var notebookContainer = gd.closest('#notebook-container');\n",
       "if (notebookContainer) {{\n",
       "    x.observe(notebookContainer, {childList: true});\n",
       "}}\n",
       "\n",
       "// Listen for the clearing of the current output cell\n",
       "var outputEl = gd.closest('.output');\n",
       "if (outputEl) {{\n",
       "    x.observe(outputEl, {childList: true});\n",
       "}}\n",
       "\n",
       "                        })                };                });            </script>        </div>"
      ]
     },
     "metadata": {},
     "output_type": "display_data"
    }
   ],
   "source": [
    "top_charges_by_level = top_charges_by_level.reset_index()\n",
    "\n",
    "data = []\n",
    "for judge in top_charges.Judge.unique():\n",
    "    \n",
    "    data.append(\n",
    "        go.Bar(name=judge, \n",
    "               x=top_charges_by_level[top_charges_by_level.Judge==judge]['Level'], \n",
    "               y=top_charges_by_level[top_charges_by_level.Judge==judge]['Charge Number']\n",
    "              )\n",
    "        )\n",
    "\n",
    "fig = go.Figure(data)\n",
    "fig.update_layout(title='Charge Level Counts', uniformtext_minsize=8, \n",
    "                  uniformtext_mode='show',barmode='group', xaxis_tickangle=-35,\n",
    "                 yaxis={'title': 'Count'}, xaxis={'type': 'category'})\n",
    "\n",
    "fig.show()"
   ]
  },
  {
   "cell_type": "markdown",
   "id": "c6f84c39",
   "metadata": {},
   "source": [
    "Above is a breakdown of the levels of the top 10 charges seen by each judge. Immediately visible is the difference in the distributions. Judge Ward saw many more Felony cases than Judge Skahan. Comparing the two most serious levels, Felony B and C, Judge Ward saw 268 of these cases while Skahan only saw 76. Judge Skahan saw 90 Misdemeanor cases while Ward saw none."
   ]
  },
  {
   "cell_type": "code",
   "execution_count": 279,
   "id": "ba0cf8bd",
   "metadata": {},
   "outputs": [
    {
     "data": {
      "text/html": [
       "<div>\n",
       "<style scoped>\n",
       "    .dataframe tbody tr th:only-of-type {\n",
       "        vertical-align: middle;\n",
       "    }\n",
       "\n",
       "    .dataframe tbody tr th {\n",
       "        vertical-align: top;\n",
       "    }\n",
       "\n",
       "    .dataframe thead th {\n",
       "        text-align: right;\n",
       "    }\n",
       "</style>\n",
       "<table border=\"1\" class=\"dataframe\">\n",
       "  <thead>\n",
       "    <tr style=\"text-align: right;\">\n",
       "      <th></th>\n",
       "      <th></th>\n",
       "      <th>Charge Number</th>\n",
       "      <th>Percentage of Group (Judge)</th>\n",
       "    </tr>\n",
       "    <tr>\n",
       "      <th>Judge</th>\n",
       "      <th>Level Class</th>\n",
       "      <th></th>\n",
       "      <th></th>\n",
       "    </tr>\n",
       "  </thead>\n",
       "  <tbody>\n",
       "    <tr>\n",
       "      <th rowspan=\"3\" valign=\"top\">Division I - Judge Paula Skahan</th>\n",
       "      <th>Civil</th>\n",
       "      <td>17</td>\n",
       "      <td>5.52</td>\n",
       "    </tr>\n",
       "    <tr>\n",
       "      <th>Felony</th>\n",
       "      <td>201</td>\n",
       "      <td>65.26</td>\n",
       "    </tr>\n",
       "    <tr>\n",
       "      <th>Misdemeanor</th>\n",
       "      <td>90</td>\n",
       "      <td>29.22</td>\n",
       "    </tr>\n",
       "    <tr>\n",
       "      <th rowspan=\"2\" valign=\"top\">Division IX - Judge W. Mark Ward</th>\n",
       "      <th>Civil</th>\n",
       "      <td>52</td>\n",
       "      <td>12.18</td>\n",
       "    </tr>\n",
       "    <tr>\n",
       "      <th>Felony</th>\n",
       "      <td>375</td>\n",
       "      <td>87.82</td>\n",
       "    </tr>\n",
       "  </tbody>\n",
       "</table>\n",
       "</div>"
      ],
      "text/plain": [
       "                                              Charge Number  \\\n",
       "Judge                            Level Class                  \n",
       "Division I - Judge Paula Skahan  Civil                   17   \n",
       "                                 Felony                 201   \n",
       "                                 Misdemeanor             90   \n",
       "Division IX - Judge W. Mark Ward Civil                   52   \n",
       "                                 Felony                 375   \n",
       "\n",
       "                                              Percentage of Group (Judge)  \n",
       "Judge                            Level Class                               \n",
       "Division I - Judge Paula Skahan  Civil                               5.52  \n",
       "                                 Felony                             65.26  \n",
       "                                 Misdemeanor                        29.22  \n",
       "Division IX - Judge W. Mark Ward Civil                              12.18  \n",
       "                                 Felony                             87.82  "
      ]
     },
     "execution_count": 279,
     "metadata": {},
     "output_type": "execute_result"
    }
   ],
   "source": [
    "def level_class(x):\n",
    "    if 'Felony' in x:\n",
    "        return 'Felony'\n",
    "    elif 'Mis' in x:\n",
    "        return 'Misdemeanor'\n",
    "    elif 'Civil' in x:\n",
    "        return 'Civil'\n",
    "\n",
    "top_charges_by_level['Level Class'] = top_charges_by_level.Level.apply(lambda x: level_class(x))\n",
    "\n",
    "level_class = top_charges_by_level[['Judge', 'Level Class', 'Charge Number']].groupby(['Judge', 'Level Class']).sum()\n",
    "level_class['Percentage of Group (Judge)'] = round(100*level_class/level_class.groupby('Judge').sum(), 2)\n",
    "level_class"
   ]
  },
  {
   "cell_type": "markdown",
   "id": "31cff70f",
   "metadata": {},
   "source": [
    "- Class A Felony up to 60 years in prison and a fine of up to $50,000\n",
    "\n",
    "- Class B Felony up to 30 years in prison and a fine of up to $25,000\n",
    "\n",
    "- Class C Felony up to 15 years in prison and a fine of up to $10,000\n",
    "\n",
    "- Class D Felony up to 12 years in prison and a fine of up to $5,000\n",
    "\n",
    "- Class E Felony up to 6 years in prison and a fine of up to $3,000\n",
    "\n",
    "- Class A Misdemeanor up to one year in prison and a fine of up to $2,500\n",
    "\n",
    "- Class B Misdemeanor up to six months in jail and a fine of up to $500\n",
    "\n",
    "- Class C Misdemeanor up to 30 days in jail and a fine of up to $50\n",
    "\n",
    "source:https://www.midsouthcriminaldefense.com/blog/2014/january/what-is-the-difference-between-a-misdemeanor-and/#:~:text=There%20are%20five%20different%20classes,fine%20of%20up%20to%20%2410%2C000"
   ]
  },
  {
   "cell_type": "markdown",
   "id": "96e8afd3",
   "metadata": {},
   "source": [
    "This data can be summarized at a higher level by grouping all felonies, misdemeanors, and civil cases. We can see from the table above that Judge Ward saw 174 more felony cases than Judge Skahan. Judge Ward saw over 20% more felony cases than Skahan. The data shows that Judge ward presided over more significantly more serious cases with higher consequences than Skahan. The cell above summarizes the max consequences of each charge level. We can use this upper limit to calculate the difference in the potential total maximum sentencing between judges."
   ]
  },
  {
   "cell_type": "code",
   "execution_count": 292,
   "id": "c2cd2c54",
   "metadata": {},
   "outputs": [
    {
     "data": {
      "text/html": [
       "<div>\n",
       "<style scoped>\n",
       "    .dataframe tbody tr th:only-of-type {\n",
       "        vertical-align: middle;\n",
       "    }\n",
       "\n",
       "    .dataframe tbody tr th {\n",
       "        vertical-align: top;\n",
       "    }\n",
       "\n",
       "    .dataframe thead th {\n",
       "        text-align: right;\n",
       "    }\n",
       "</style>\n",
       "<table border=\"1\" class=\"dataframe\">\n",
       "  <thead>\n",
       "    <tr style=\"text-align: right;\">\n",
       "      <th></th>\n",
       "      <th>Judge</th>\n",
       "      <th>Level</th>\n",
       "      <th>Charge Number</th>\n",
       "      <th>Level Class</th>\n",
       "      <th>Prison Sentence</th>\n",
       "      <th>Fine</th>\n",
       "      <th>Total Prison Sentence</th>\n",
       "      <th>Total Fine</th>\n",
       "    </tr>\n",
       "  </thead>\n",
       "  <tbody>\n",
       "    <tr>\n",
       "      <th>0</th>\n",
       "      <td>Division I - Judge Paula Skahan</td>\n",
       "      <td>Civil-Petition</td>\n",
       "      <td>17</td>\n",
       "      <td>Civil</td>\n",
       "      <td>0</td>\n",
       "      <td>0</td>\n",
       "      <td>0</td>\n",
       "      <td>0</td>\n",
       "    </tr>\n",
       "    <tr>\n",
       "      <th>1</th>\n",
       "      <td>Division I - Judge Paula Skahan</td>\n",
       "      <td>Felony B</td>\n",
       "      <td>29</td>\n",
       "      <td>Felony</td>\n",
       "      <td>30</td>\n",
       "      <td>50000</td>\n",
       "      <td>870</td>\n",
       "      <td>1450000</td>\n",
       "    </tr>\n",
       "    <tr>\n",
       "      <th>2</th>\n",
       "      <td>Division I - Judge Paula Skahan</td>\n",
       "      <td>Felony C</td>\n",
       "      <td>47</td>\n",
       "      <td>Felony</td>\n",
       "      <td>15</td>\n",
       "      <td>25000</td>\n",
       "      <td>705</td>\n",
       "      <td>1175000</td>\n",
       "    </tr>\n",
       "    <tr>\n",
       "      <th>3</th>\n",
       "      <td>Division I - Judge Paula Skahan</td>\n",
       "      <td>Felony D</td>\n",
       "      <td>30</td>\n",
       "      <td>Felony</td>\n",
       "      <td>12</td>\n",
       "      <td>10000</td>\n",
       "      <td>360</td>\n",
       "      <td>300000</td>\n",
       "    </tr>\n",
       "    <tr>\n",
       "      <th>4</th>\n",
       "      <td>Division I - Judge Paula Skahan</td>\n",
       "      <td>Felony E</td>\n",
       "      <td>59</td>\n",
       "      <td>Felony</td>\n",
       "      <td>6</td>\n",
       "      <td>5000</td>\n",
       "      <td>354</td>\n",
       "      <td>295000</td>\n",
       "    </tr>\n",
       "    <tr>\n",
       "      <th>5</th>\n",
       "      <td>Division I - Judge Paula Skahan</td>\n",
       "      <td>Felony M</td>\n",
       "      <td>36</td>\n",
       "      <td>Felony</td>\n",
       "      <td>0</td>\n",
       "      <td>0</td>\n",
       "      <td>0</td>\n",
       "      <td>0</td>\n",
       "    </tr>\n",
       "    <tr>\n",
       "      <th>6</th>\n",
       "      <td>Division I - Judge Paula Skahan</td>\n",
       "      <td>Misdemeanor A</td>\n",
       "      <td>90</td>\n",
       "      <td>Misdemeanor</td>\n",
       "      <td>1</td>\n",
       "      <td>2500</td>\n",
       "      <td>90</td>\n",
       "      <td>225000</td>\n",
       "    </tr>\n",
       "    <tr>\n",
       "      <th>7</th>\n",
       "      <td>Division IX - Judge W. Mark Ward</td>\n",
       "      <td>Civil Ordinances</td>\n",
       "      <td>24</td>\n",
       "      <td>Civil</td>\n",
       "      <td>0</td>\n",
       "      <td>0</td>\n",
       "      <td>0</td>\n",
       "      <td>0</td>\n",
       "    </tr>\n",
       "    <tr>\n",
       "      <th>8</th>\n",
       "      <td>Division IX - Judge W. Mark Ward</td>\n",
       "      <td>Civil-Petition</td>\n",
       "      <td>28</td>\n",
       "      <td>Civil</td>\n",
       "      <td>0</td>\n",
       "      <td>0</td>\n",
       "      <td>0</td>\n",
       "      <td>0</td>\n",
       "    </tr>\n",
       "    <tr>\n",
       "      <th>9</th>\n",
       "      <td>Division IX - Judge W. Mark Ward</td>\n",
       "      <td>Felony B</td>\n",
       "      <td>98</td>\n",
       "      <td>Felony</td>\n",
       "      <td>30</td>\n",
       "      <td>50000</td>\n",
       "      <td>2940</td>\n",
       "      <td>4900000</td>\n",
       "    </tr>\n",
       "    <tr>\n",
       "      <th>10</th>\n",
       "      <td>Division IX - Judge W. Mark Ward</td>\n",
       "      <td>Felony C</td>\n",
       "      <td>170</td>\n",
       "      <td>Felony</td>\n",
       "      <td>15</td>\n",
       "      <td>25000</td>\n",
       "      <td>2550</td>\n",
       "      <td>4250000</td>\n",
       "    </tr>\n",
       "    <tr>\n",
       "      <th>11</th>\n",
       "      <td>Division IX - Judge W. Mark Ward</td>\n",
       "      <td>Felony D</td>\n",
       "      <td>66</td>\n",
       "      <td>Felony</td>\n",
       "      <td>12</td>\n",
       "      <td>10000</td>\n",
       "      <td>792</td>\n",
       "      <td>660000</td>\n",
       "    </tr>\n",
       "    <tr>\n",
       "      <th>12</th>\n",
       "      <td>Division IX - Judge W. Mark Ward</td>\n",
       "      <td>Felony M</td>\n",
       "      <td>41</td>\n",
       "      <td>Felony</td>\n",
       "      <td>0</td>\n",
       "      <td>0</td>\n",
       "      <td>0</td>\n",
       "      <td>0</td>\n",
       "    </tr>\n",
       "  </tbody>\n",
       "</table>\n",
       "</div>"
      ],
      "text/plain": [
       "                               Judge             Level  Charge Number  \\\n",
       "0    Division I - Judge Paula Skahan    Civil-Petition             17   \n",
       "1    Division I - Judge Paula Skahan          Felony B             29   \n",
       "2    Division I - Judge Paula Skahan          Felony C             47   \n",
       "3    Division I - Judge Paula Skahan          Felony D             30   \n",
       "4    Division I - Judge Paula Skahan          Felony E             59   \n",
       "5    Division I - Judge Paula Skahan          Felony M             36   \n",
       "6    Division I - Judge Paula Skahan     Misdemeanor A             90   \n",
       "7   Division IX - Judge W. Mark Ward  Civil Ordinances             24   \n",
       "8   Division IX - Judge W. Mark Ward    Civil-Petition             28   \n",
       "9   Division IX - Judge W. Mark Ward          Felony B             98   \n",
       "10  Division IX - Judge W. Mark Ward          Felony C            170   \n",
       "11  Division IX - Judge W. Mark Ward          Felony D             66   \n",
       "12  Division IX - Judge W. Mark Ward          Felony M             41   \n",
       "\n",
       "    Level Class  Prison Sentence   Fine  Total Prison Sentence  Total Fine  \n",
       "0         Civil                0      0                      0           0  \n",
       "1        Felony               30  50000                    870     1450000  \n",
       "2        Felony               15  25000                    705     1175000  \n",
       "3        Felony               12  10000                    360      300000  \n",
       "4        Felony                6   5000                    354      295000  \n",
       "5        Felony                0      0                      0           0  \n",
       "6   Misdemeanor                1   2500                     90      225000  \n",
       "7         Civil                0      0                      0           0  \n",
       "8         Civil                0      0                      0           0  \n",
       "9        Felony               30  50000                   2940     4900000  \n",
       "10       Felony               15  25000                   2550     4250000  \n",
       "11       Felony               12  10000                    792      660000  \n",
       "12       Felony                0      0                      0           0  "
      ]
     },
     "execution_count": 292,
     "metadata": {},
     "output_type": "execute_result"
    }
   ],
   "source": [
    "# mappings of the max prison sentences & fines for each level\n",
    "prison_dict = {'Felony B': 30,\n",
    "                'Felony C': 15,\n",
    "                'Felony D': 12,\n",
    "                'Felony E': 6,\n",
    "                'Misdemeanor A': 1,\n",
    "               'Civil Ordinances': 0,\n",
    "               'Civil-Petition': 0,\n",
    "               'Felony M': 0\n",
    "              }\n",
    "\n",
    "fine_dict = {'Felony B': 50000,\n",
    "                'Felony C': 25000,\n",
    "                'Felony D': 10000,\n",
    "                'Felony E': 5000,\n",
    "                'Misdemeanor A': 2500,\n",
    "               'Civil Ordinances': 0,\n",
    "               'Civil-Petition': 0,\n",
    "               'Felony M': 0}\n",
    "\n",
    "top_charges_by_level['Prison Sentence'] = top_charges_by_level.Level.replace(prison_dict)\n",
    "top_charges_by_level['Fine'] = top_charges_by_level.Level.replace(fine_dict)\n",
    "top_charges_by_level['Total Prison Sentence'] = top_charges_by_level['Charge Number'] * top_charges_by_level['Prison Sentence']\n",
    "top_charges_by_level['Total Fine'] = top_charges_by_level['Charge Number'] * top_charges_by_level['Fine']\n",
    "top_charges_by_level"
   ]
  },
  {
   "cell_type": "code",
   "execution_count": 291,
   "id": "9ea567eb",
   "metadata": {},
   "outputs": [
    {
     "data": {
      "text/html": [
       "<div>\n",
       "<style scoped>\n",
       "    .dataframe tbody tr th:only-of-type {\n",
       "        vertical-align: middle;\n",
       "    }\n",
       "\n",
       "    .dataframe tbody tr th {\n",
       "        vertical-align: top;\n",
       "    }\n",
       "\n",
       "    .dataframe thead th {\n",
       "        text-align: right;\n",
       "    }\n",
       "</style>\n",
       "<table border=\"1\" class=\"dataframe\">\n",
       "  <thead>\n",
       "    <tr style=\"text-align: right;\">\n",
       "      <th></th>\n",
       "      <th>Total Prison Sentence</th>\n",
       "      <th>Total Fine</th>\n",
       "    </tr>\n",
       "    <tr>\n",
       "      <th>Judge</th>\n",
       "      <th></th>\n",
       "      <th></th>\n",
       "    </tr>\n",
       "  </thead>\n",
       "  <tbody>\n",
       "    <tr>\n",
       "      <th>Division I - Judge Paula Skahan</th>\n",
       "      <td>2379</td>\n",
       "      <td>3445000</td>\n",
       "    </tr>\n",
       "    <tr>\n",
       "      <th>Division IX - Judge W. Mark Ward</th>\n",
       "      <td>6282</td>\n",
       "      <td>9810000</td>\n",
       "    </tr>\n",
       "  </tbody>\n",
       "</table>\n",
       "</div>"
      ],
      "text/plain": [
       "                                  Total Prison Sentence  Total Fine\n",
       "Judge                                                              \n",
       "Division I - Judge Paula Skahan                    2379     3445000\n",
       "Division IX - Judge W. Mark Ward                   6282     9810000"
      ]
     },
     "execution_count": 291,
     "metadata": {},
     "output_type": "execute_result"
    }
   ],
   "source": [
    "totals = top_charges_by_level[['Judge', 'Total Prison Sentence', 'Total Fine']].groupby(['Judge']).sum()\n",
    "totals"
   ]
  },
  {
   "cell_type": "markdown",
   "id": "7378f021",
   "metadata": {},
   "source": [
    "The table above shows that **Judge Ward** oversaw cases summing up to a potential total of **6,282 years** of prision time and **\\\\$9,810,000** in total fines. **Judge Skahan** oversaw cases summing up to a potential total of **2,379 years** of prision time and **\\\\$3,445,000** in total fines. A stark contrast."
   ]
  },
  {
   "cell_type": "code",
   "execution_count": null,
   "id": "b53ae055",
   "metadata": {},
   "outputs": [],
   "source": []
  }
 ],
 "metadata": {
  "kernelspec": {
   "display_name": "Python 3",
   "language": "python",
   "name": "python3"
  },
  "language_info": {
   "codemirror_mode": {
    "name": "ipython",
    "version": 3
   },
   "file_extension": ".py",
   "mimetype": "text/x-python",
   "name": "python",
   "nbconvert_exporter": "python",
   "pygments_lexer": "ipython3",
   "version": "3.8.8"
  }
 },
 "nbformat": 4,
 "nbformat_minor": 5
}
